{
 "cells": [
  {
   "cell_type": "code",
   "execution_count": 65,
   "metadata": {},
   "outputs": [],
   "source": [
    "import pandas as pd\n",
    "import numpy as np\n",
    "from datetime import datetime\n",
    "import os, time, gc, datetime\n",
    "from sklearn.ensemble import RandomForestClassifier\n",
    "from sklearn.preprocessing import LabelEncoder \n",
    "from boruta import BorutaPy\n",
    "from sklearn import preprocessing\n",
    "import matplotlib.pyplot as plt\n",
    "%matplotlib inline\n",
    "from sklearn.model_selection import cross_val_score\n",
    "from sklearn.feature_selection import RFECV\n",
    "import lightgbm as lgb\n",
    "from tools import *\n",
    "from pyod.utils.utility import precision_n_scores\n",
    "import xgboost as xgb\n",
    "from xgboost import XGBClassifier"
   ]
  },
  {
   "cell_type": "markdown",
   "metadata": {},
   "source": [
    "## Introduction"
   ]
  },
  {
   "cell_type": "markdown",
   "metadata": {},
   "source": [
    "Feature  selection  plays  a  significant  role  in  improving  the performance of the machine learning algorithms in terms of reducing the time to build the learning model and increasing the  accuracy  in  the  learning  process. Hence it's important to pay more attention on the feature selection to enhance the performance of the machine learning algorithms. Identifying  the  suitable  feature selection method is very essential for a given machine learning task with high-dimensional data. The feature selection methods can be divided into 3 major categories. \n",
    "\n",
    "1. **Filter based methods** where we can specify some metric and based on that filter features (Pearson Correlation or Chi-square) \n",
    "2. **Wrapper based methods** consider the selection of a set of features as a search problem (Recursive Feature Elimination, Boruta)\n",
    "3. **Embedded methods** use algorithms that have built-in feature selection methods (Random Forest, XGboost, LGBM)\n"
   ]
  },
  {
   "cell_type": "markdown",
   "metadata": {},
   "source": [
    "**Random Forest**  algorithm is used for regression and classification problems, making it a diverse model. It prevents overfitting of data and fast to train with test data. But on the other hand, it is slow in creating predictions once model is made and must beware of outliers/holes in the data.\n",
    "\n",
    "**XGboost** algorithm stands for eXtreme Gradient Boosting refers to the engineering goal to push the limit of computations resources for boosted tree algorithms. It can be used to solve regression, classification, ranking, and user-defined prediction problems.\n",
    "\n",
    "**LightGBM** algorithm is a fast distributed as well as high-performance gradient boosting framework that makes the use of a learning algorithm that is tree-based, and is used for ranking, classification as well as many other machine learning tasks. It is prefixed as ‘Light’ because of its high speed. Light GBM can handle the large size of data and takes lower memory to run. LGBM has faster training speed and higher efficiency, lower memory usage, better accuracy than any other boosting algorithm, compatibility with Large Datasets, supports parallel and GPU learning.\n"
   ]
  },
  {
   "cell_type": "markdown",
   "metadata": {},
   "source": [
    "#### We are going to focus mostly on Wrapper and Embedded methods in order to see which one works more efficient. "
   ]
  },
  {
   "cell_type": "code",
   "execution_count": null,
   "metadata": {},
   "outputs": [],
   "source": []
  },
  {
   "cell_type": "code",
   "execution_count": 66,
   "metadata": {},
   "outputs": [],
   "source": [
    "def load_data():\n",
    "    \n",
    "    train_transaction = pd.read_csv(\"../data/train_transaction.csv\") \n",
    "    train_identity = pd.read_csv(\"../data/train_identity.csv\")  \n",
    "    data=pd.merge(train_transaction,train_identity,how='left',on='TransactionID')\n",
    "    \n",
    "    return data"
   ]
  },
  {
   "cell_type": "code",
   "execution_count": 67,
   "metadata": {},
   "outputs": [],
   "source": [
    "def reduce_mem_usage(df, verbose=True):\n",
    "    numerics = ['int16', 'int32', 'int64', 'float16', 'float32', 'float64']\n",
    "    start_mem = df.memory_usage().sum() / 1024**2    \n",
    "    for col in df.columns:\n",
    "        col_type = df[col].dtypes\n",
    "        if col_type in numerics:\n",
    "            c_min = df[col].min()\n",
    "            c_max = df[col].max()\n",
    "            if str(col_type)[:3] == 'int':\n",
    "                if c_min > np.iinfo(np.int8).min and c_max < np.iinfo(np.int8).max:\n",
    "                    df[col] = df[col].astype(np.int8)\n",
    "                elif c_min > np.iinfo(np.int16).min and c_max < np.iinfo(np.int16).max:\n",
    "                    df[col] = df[col].astype(np.int16)\n",
    "                elif c_min > np.iinfo(np.int32).min and c_max < np.iinfo(np.int32).max:\n",
    "                    df[col] = df[col].astype(np.int32)\n",
    "                elif c_min > np.iinfo(np.int64).min and c_max < np.iinfo(np.int64).max:\n",
    "                    df[col] = df[col].astype(np.int64)  \n",
    "            else:\n",
    "                if c_min > np.finfo(np.float16).min and c_max < np.finfo(np.float16).max:\n",
    "                    df[col] = df[col].astype(np.float16)\n",
    "                elif c_min > np.finfo(np.float32).min and c_max < np.finfo(np.float32).max:\n",
    "                    df[col] = df[col].astype(np.float32)\n",
    "                else:\n",
    "                    df[col] = df[col].astype(np.float64)    \n",
    "    end_mem = df.memory_usage().sum() / 1024**2\n",
    "    if verbose: print('Mem. usage decreased to {:5.2f} Mb ({:.1f}% reduction)'.format(end_mem, 100 * (start_mem - end_mem) / start_mem))\n",
    "    return df"
   ]
  },
  {
   "cell_type": "code",
   "execution_count": 68,
   "metadata": {},
   "outputs": [
    {
     "name": "stdout",
     "output_type": "stream",
     "text": [
      "Mem. usage decreased to 650.48 Mb (66.8% reduction)\n"
     ]
    }
   ],
   "source": [
    "data = load_data()\n",
    "data=reduce_mem_usage(data)"
   ]
  },
  {
   "cell_type": "code",
   "execution_count": 69,
   "metadata": {},
   "outputs": [
    {
     "name": "stdout",
     "output_type": "stream",
     "text": [
      "(590540, 95)\n"
     ]
    }
   ],
   "source": [
    "#Removing all V columns \n",
    "\n",
    "V_cols = [x for x in data.columns if x[0] == 'V']\n",
    "data = data.drop(columns = V_cols, axis = 1)\n",
    "\n",
    "print(data.shape)"
   ]
  },
  {
   "cell_type": "code",
   "execution_count": 70,
   "metadata": {},
   "outputs": [
    {
     "name": "stdout",
     "output_type": "stream",
     "text": [
      "(590540, 57)\n"
     ]
    }
   ],
   "source": [
    "#Removing all ID columns \n",
    "\n",
    "data = data.drop(columns = ['id_01', 'id_02', 'id_03', 'id_04', 'id_05', 'id_06', 'id_07', 'id_08', 'id_09', 'id_10',\n",
    "                 'id_11', 'id_12', 'id_13', 'id_14', 'id_15', 'id_16', 'id_17', 'id_18', 'id_19', 'id_20', 'id_21',\n",
    "                 'id_22', 'id_23', 'id_24', 'id_25', 'id_26', 'id_27', 'id_28', 'id_29', 'id_30', 'id_31', 'id_32',\n",
    "                 'id_33', 'id_34', 'id_35', 'id_36', 'id_37', 'id_38'], axis = 1)\n",
    "\n",
    "print(data.shape)\n"
   ]
  },
  {
   "cell_type": "markdown",
   "metadata": {},
   "source": [
    "### Missing Values"
   ]
  },
  {
   "cell_type": "markdown",
   "metadata": {},
   "source": [
    "1. **Deleting Rows:** When we completely remove the data with missing values results to highly accurate model. Therefore, deleting a particular row or column with no specific information is better. On the other hand, we get loss of information and data. This method does not work well if the percentage of missing values is high compared to the whole dataset. This method is good to apply when there are enough samples in the dataset. \n",
    "2. **Replacing with Mean/Median/Mode:** This method is a good solution when the data size is small and it can prevent data loss which results in removal of the rows and columns. But on the other hand, imputing the approximations add variance/bias and it does not work well to other multiple-imputations method. This strategy can be applied on a features which has numeric data.\n",
    "3. **Assigning unique Category:** This method is suitable particularly for features which has categorical data. In this case when we have low variance after one hot encoding and it prevents the loss of data by adding an unique category. But disadvantage is that it adds less variance and adds another feature to the model while encoding, which may result in poor performance.\n",
    "4. **Predicting Missing Values:** In this method we can use the features which do not have missing values and then predict the nulls with the help of a machine learning algorithm (for example linear regression). This method can result in better accuracy, unless a missing value is expected to have a very high variance. But problem with this method is that bias also arises when an incomplete conditioning set is used for a categorical variable and it considered only as a proxy for the true values.\n",
    "5. **Use Algorithms supporting Missing Values:** This method does not require creation of a predictive model for each attribute with missing data in the dataset. For example, KNN is a machine learning algorithm which works on the principle of distance measure. This algorithm can be used when there are nulls present in the dataset. While the algorithm is applied, KNN considers the missing values by taking the majority of the K nearest values. Another possible algorithm to use is Random Forest. This model also produces a good result because it works well on non-linear and the categorical data. RF adapts to the data structure taking into consideration of the high variance or the bias, producing better results on large datasets. But good to mention that using these algorithms supporting missing valuesd is a very time consuming process and it can be critical in data mining where large databases are being extracted.\n",
    "6. **Replacing with Zero:** Depending on where your data are coming from, a missing value may be better represented by the number zero. Replacing missing values with zeros is accomplished similar to the above method; just replace the mean function with zero.\n",
    "7. **Replacing with Most Common or “Unknown” Class:** For categorical features, using mean, median, or zero-imputation doesn't make sense. Therefore, there are two ways to handle with categorical features. One approach is to replace missing values with the most common class and second approach is just replace missing values with a value like “Unknown” (similar to imputation a missing numeric feature with zeros)."
   ]
  },
  {
   "cell_type": "markdown",
   "metadata": {},
   "source": [
    "**In order to handle missing values for our dataset, for categorical features we will replace missing values with the most frequent, and for numerical features we will do imputation of missing values by mean.** "
   ]
  },
  {
   "cell_type": "code",
   "execution_count": 71,
   "metadata": {},
   "outputs": [
    {
     "name": "stdout",
     "output_type": "stream",
     "text": [
      "imputation of missing values by most\n",
      "imputation of missing values by mean\n",
      "2.710088014602661 s\n"
     ]
    }
   ],
   "source": [
    "# Handling missing value\n",
    "\n",
    "from sklearn.impute import SimpleImputer\n",
    "\n",
    "num_cols = pd.read_csv(\"../data/corr_mat.csv\").columns.to_list()[1:]\n",
    "cat_cols = [_ for _ in data.columns if _ not in num_cols]\n",
    "num_cols=[_ for _ in data.columns if _ not in cat_cols]\n",
    "\n",
    "print('imputation of missing values by most') ; st=time.time()\n",
    "imp = SimpleImputer( strategy='most_frequent')\n",
    "imp.fit(data[cat_cols])\n",
    "data[cat_cols] = imp.transform(data[cat_cols])\n",
    "    \n",
    "print('imputation of missing values by mean') ; st=time.time()\n",
    "imp = SimpleImputer(missing_values=np.nan, strategy='mean')\n",
    "data[num_cols] = imp.fit_transform(data[num_cols].replace(np.inf, 99999).values)\n",
    "\n",
    "print(time.time()-st,'s')\n",
    "\n",
    "#imp.fit(data[num_cols]) data[num_cols] = imp.transform(data[num_cols])"
   ]
  },
  {
   "cell_type": "code",
   "execution_count": 72,
   "metadata": {},
   "outputs": [
    {
     "data": {
      "text/plain": [
       "0        2017-12-02 00:00:00\n",
       "1        2017-12-02 00:00:01\n",
       "2        2017-12-02 00:01:09\n",
       "3        2017-12-02 00:01:39\n",
       "4        2017-12-02 00:01:46\n",
       "                 ...        \n",
       "590535   2018-06-01 23:57:27\n",
       "590536   2018-06-01 23:57:29\n",
       "590537   2018-06-01 23:57:59\n",
       "590538   2018-06-01 23:58:08\n",
       "590539   2018-06-01 23:58:51\n",
       "Name: Date, Length: 590540, dtype: datetime64[ns]"
      ]
     },
     "execution_count": 72,
     "metadata": {},
     "output_type": "execute_result"
    }
   ],
   "source": [
    "START_DATE = '2017-12-01'\n",
    "startdate = datetime.datetime.strptime(START_DATE, \"%Y-%m-%d\")\n",
    "data['Date'] = data['TransactionDT'].apply(lambda x: (startdate + datetime.timedelta(seconds=x)))\n",
    "data['Date']"
   ]
  },
  {
   "cell_type": "markdown",
   "metadata": {},
   "source": [
    "### Encoding categorical variables"
   ]
  },
  {
   "cell_type": "markdown",
   "metadata": {},
   "source": [
    "1. **Replace or Custom Mapping** is useful for ordinal variable where the order of categories is important. If we want to make sure that the learning algorithm interprets the ordinal variables correctly, we can map the categorical values to integer values manually. In order to do that there are two ways, one is to use map function and another is to use replace function.\n",
    "2. **Label Encoding** method transform non-numerical labels into numerical labels. Each category is assigned a unique label starting from 0. Label encoders are suitable for encoding variables where alphabetical alignment or numerical value of labels is important. \n",
    "3. **OneHot encoding** is the most widely used encoding scheme. It works by creating a column for each category present in the feature and assigning a 1 or 0 to indicate the presence of a category in the data. Onehot encoding performs better when the category cardinality of a feature is not too high. Because for feature with high cardinality, one hot encoding would create a large number of columns which could lead to memory problems.  \n",
    "4. **Binary encoding** Binary encoding is not as intuitive as the approaches above. In this method the categories are encoded as ordinal. For example red, yellow, green categories are assigned labels as 1, 2, 3. For the next step these integers are converting into binary code (for example 1 becomes 001 and 2 becomes 010). Then the digits from that binary string are spliting into separate columns. Binary encoding is good for high cardinality data as it creates very few new columns. Most similar values overlap with each other across many of the new columns. This allows many machine learning algorithms to learn the similarity of the values."
   ]
  },
  {
   "cell_type": "markdown",
   "metadata": {},
   "source": [
    "#### In order to do encoding of our categorical variables, we will use Label Encoding method because it's the most suitable for out dataset."
   ]
  },
  {
   "cell_type": "code",
   "execution_count": 73,
   "metadata": {},
   "outputs": [],
   "source": [
    "#Label encoding\n",
    "\n",
    "number = LabelEncoder()\n",
    "for i in data.columns:\n",
    "    if (data[i].dtype == 'object' or 'category' in str(data[i].dtype)):\n",
    "        data[i] = number.fit_transform(data[i].astype('str'))"
   ]
  },
  {
   "cell_type": "code",
   "execution_count": 74,
   "metadata": {},
   "outputs": [],
   "source": [
    "d1 = datetime.datetime(2018, 5, 1)\n",
    "train_X = data[data['Date']<d1]\n",
    "test_X = data[data['Date']>= d1]\n",
    "\n",
    "\n",
    "y_train = train_X['isFraud'].copy()\n",
    "conta = sum(y_train) / len(y_train)\n",
    "X_train  = train_X.drop(columns = ['Date', 'isFraud'], axis = 1)\n",
    "\n",
    "X_test1 = test_X.drop('Date', axis = 1)\n",
    "X_test = test_X.drop(columns = ['Date', 'isFraud'], axis = 1)\n",
    "y_test = X_test1['isFraud'].copy()"
   ]
  },
  {
   "cell_type": "code",
   "execution_count": 75,
   "metadata": {},
   "outputs": [
    {
     "data": {
      "text/plain": [
       "(498113, 56)"
      ]
     },
     "execution_count": 75,
     "metadata": {},
     "output_type": "execute_result"
    }
   ],
   "source": [
    "X_train.shape"
   ]
  },
  {
   "cell_type": "markdown",
   "metadata": {},
   "source": [
    "## Recursive Feature Elimination"
   ]
  },
  {
   "cell_type": "markdown",
   "metadata": {},
   "source": [
    "#### Recursive feature elimination is a backward selection of the predictors. This technique begins by building a model on the entire set of predictors and computing an importance score for each predictor. The least important predictor(s) are then removed, the model is re-built, and importance scores are computed again. In practice, the analyst specifies the number of predictor subsets to evaluate as well as each subset’s size. Therefore, the subset size is a tuning parameter for RFE. The subset size that optimizes the performance criteria is used to select the predictors based on the importance rankings. The optimal subset is then used to train the final model."
   ]
  },
  {
   "cell_type": "markdown",
   "metadata": {},
   "source": [
    "### LGBM model"
   ]
  },
  {
   "cell_type": "code",
   "execution_count": 76,
   "metadata": {},
   "outputs": [],
   "source": [
    "lgb_params =  {'num_leaves': 491,\n",
    "         'min_child_weight': 0.03454472573214212,\n",
    "         'feature_fraction': 0.3797454081646243,\n",
    "         'bagging_fraction': 0.4181193142567742,\n",
    "         'min_data_in_leaf': 106,\n",
    "         'objective': 'binary',\n",
    "         'max_depth': -1,\n",
    "         'learning_rate': 0.006883242363721497,\n",
    "         \"boosting_type\": \"gbdt\",\n",
    "         \"bagging_seed\": 11,\n",
    "         \"metric\": 'auc',\n",
    "         'reg_alpha': 0.3899927210061127,\n",
    "         'reg_lambda': 0.6485237330340494,\n",
    "         'random_state': 47 }"
   ]
  },
  {
   "cell_type": "code",
   "execution_count": 77,
   "metadata": {},
   "outputs": [],
   "source": [
    "#num_leaves >> Maximum tree leaves for base learners, controls the complexity of the tree model.\n",
    "#min_child_weight >> minimum sum of instance weight (hessian) needed in a child (leaf).\n",
    "#feature_fraction >> makes faster speed and deals with over-fitting\n",
    "#bagging_fraction >> makes faster speed and deals with over-fitting\n",
    "#min_data_in_leaf >> prevents over-fitting in a leaf-wise tree.\n",
    "#objective >> specifying learning task, corresponding learning objective or a custom objective function\n",
    "#max_depth >> Maximum tree depth for base learners, limits the tree depth explicitly (default=-1)\n",
    "#learning_rate >> boosting learning rate and for better accuracy it's good to use small learning rate \n",
    "#boosting_type >> gbdt is Gradient Boosting Decision Tree\n",
    "#bagging_seed >> Random seed for bagging.\n",
    "#metric >> defines the scoring metric\n",
    "#reg_alpha >> L1 regularization term on weights\n",
    "#reg_lambda >> L2 regularization term on weights.\n",
    "#random_state >> Random number seed."
   ]
  },
  {
   "cell_type": "code",
   "execution_count": 78,
   "metadata": {},
   "outputs": [
    {
     "name": "stdout",
     "output_type": "stream",
     "text": [
      "Fitting estimator with 56 features.\n",
      "Fitting estimator with 46 features.\n",
      "Fitting estimator with 36 features.\n",
      "Fitting estimator with 26 features.\n",
      "Fitting estimator with 16 features.\n",
      "Fitting estimator with 6 features.\n",
      "Fitting estimator with 56 features.\n",
      "Fitting estimator with 46 features.\n",
      "Fitting estimator with 36 features.\n",
      "Fitting estimator with 26 features.\n",
      "Fitting estimator with 16 features.\n",
      "Fitting estimator with 6 features.\n",
      "Fitting estimator with 56 features.\n",
      "Fitting estimator with 46 features.\n",
      "Fitting estimator with 36 features.\n",
      "Fitting estimator with 26 features.\n",
      "Fitting estimator with 16 features.\n",
      "Fitting estimator with 6 features.\n",
      "Fitting estimator with 56 features.\n",
      "Fitting estimator with 46 features.\n",
      "Fitting estimator with 36 features.\n",
      "Fitting estimator with 26 features.\n",
      "Fitting estimator with 16 features.\n",
      "Fitting estimator with 6 features.\n",
      "Fitting estimator with 56 features.\n",
      "Fitting estimator with 46 features.\n",
      "Fitting estimator with 36 features.\n",
      "Fitting estimator with 26 features.\n",
      "Fitting estimator with 16 features.\n",
      "Fitting estimator with 6 features.\n"
     ]
    },
    {
     "data": {
      "text/plain": [
       "RFECV(cv=5,\n",
       "      estimator=LGBMClassifier(bagging_fraction=0.4181193142567742,\n",
       "                               bagging_seed=11, boosting_type='gbdt',\n",
       "                               class_weight=None, colsample_bytree=1.0,\n",
       "                               feature_fraction=0.3797454081646243,\n",
       "                               importance_type='split',\n",
       "                               learning_rate=0.006883242363721497, max_depth=-1,\n",
       "                               metric='auc', min_child_samples=20,\n",
       "                               min_child_weight=0.03454472573214212,\n",
       "                               min_data_in_leaf=106, min_split_gain=0.0,\n",
       "                               n_estimators=100, n_jobs=-1, num_leaves=491,\n",
       "                               objective='binary', random_state=47,\n",
       "                               reg_alpha=0.3899927210061127,\n",
       "                               reg_lambda=0.6485237330340494, silent=True,\n",
       "                               subsample=1.0, subsample_for_bin=200000,\n",
       "                               subsample_freq=0),\n",
       "      min_features_to_select=1, n_jobs=None, scoring='roc_auc', step=10,\n",
       "      verbose=1)"
      ]
     },
     "execution_count": 78,
     "metadata": {},
     "output_type": "execute_result"
    }
   ],
   "source": [
    "rfecv = RFECV(lgb.LGBMClassifier(**lgb_params), step=10, scoring='roc_auc', cv=5, verbose=1)\n",
    "rfecv.fit(X_train, y_train)"
   ]
  },
  {
   "cell_type": "code",
   "execution_count": 79,
   "metadata": {},
   "outputs": [
    {
     "name": "stdout",
     "output_type": "stream",
     "text": [
      "Optimal number of features: 56\n"
     ]
    }
   ],
   "source": [
    "print('Optimal number of features: {}'.format(rfecv.n_features_))"
   ]
  },
  {
   "cell_type": "code",
   "execution_count": 145,
   "metadata": {},
   "outputs": [
    {
     "data": {
      "image/png": "[encoded data removed]",
      "text/plain": [
       "<Figure size 1152x648 with 1 Axes>"
      ]
     },
     "metadata": {
      "needs_background": "light"
     },
     "output_type": "display_data"
    }
   ],
   "source": [
    "plt.figure(figsize=(16, 9))\n",
    "plt.title('Recursive Feature Elimination with Cross-Validation', fontsize=18, fontweight='bold', pad=20)\n",
    "plt.xlabel('Number of features selected', fontsize=14, labelpad=20)\n",
    "plt.ylabel('% Cross-Validation Score', fontsize=14, labelpad=20)\n",
    "plt.plot(range(1, len(rfecv.grid_scores_) + 1), rfecv.grid_scores_, color='#303F9F', linewidth=3)\n",
    "plt.show()\n"
   ]
  },
  {
   "cell_type": "markdown",
   "metadata": {},
   "source": [
    "#### It is visible that with 7 features the scoring is about 85%, which is not bad."
   ]
  },
  {
   "cell_type": "code",
   "execution_count": 82,
   "metadata": {},
   "outputs": [
    {
     "data": {
      "image/png": "[encoded data removed]",
      "text/plain": [
       "<Figure size 1152x1008 with 1 Axes>"
      ]
     },
     "metadata": {
      "needs_background": "light"
     },
     "output_type": "display_data"
    }
   ],
   "source": [
    "dset = pd.DataFrame()\n",
    "dset['attr'] = X_train.columns\n",
    "dset['importance'] = rfecv.estimator_.feature_importances_\n",
    "dset = dset.sort_values(by='importance', ascending=False)\n",
    "\n",
    "plt.figure(figsize=(16, 14))\n",
    "plt.barh(y=dset['attr'], width=dset['importance'], color='#1976D2')\n",
    "plt.title('RFECV - Feature Importances', fontsize=20, fontweight='bold', pad=20)\n",
    "plt.xlabel('Importance', fontsize=14, labelpad=20)\n",
    "plt.show()"
   ]
  },
  {
   "cell_type": "code",
   "execution_count": 97,
   "metadata": {},
   "outputs": [
    {
     "name": "stdout",
     "output_type": "stream",
     "text": [
      "['TransactionID' 'TransactionDT' 'TransactionAmt' 'ProductCD' 'card1'\n",
      " 'card2' 'card3' 'card4' 'card5' 'card6' 'addr1' 'addr2' 'dist1' 'dist2'\n",
      " 'P_emaildomain' 'R_emaildomain' 'C1' 'C2' 'C3' 'C4' 'C5' 'C6' 'C7' 'C8'\n",
      " 'C9' 'C10' 'C11' 'C12' 'C13' 'C14' 'D1' 'D2' 'D3' 'D4' 'D5' 'D6' 'D7'\n",
      " 'D8' 'D9' 'D10' 'D11' 'D12' 'D13' 'D14' 'D15' 'M1' 'M2' 'M3' 'M4' 'M5'\n",
      " 'M6' 'M7' 'M8' 'M9' 'DeviceType' 'DeviceInfo']\n"
     ]
    }
   ],
   "source": [
    "print(X_train.columns[rfecv.ranking_ == 1].values) #Selected Features"
   ]
  },
  {
   "cell_type": "code",
   "execution_count": 98,
   "metadata": {},
   "outputs": [
    {
     "name": "stdout",
     "output_type": "stream",
     "text": [
      "[]\n"
     ]
    }
   ],
   "source": [
    "print(X_train.columns[rfecv.ranking_ != 1].values) #Features to drop"
   ]
  },
  {
   "cell_type": "markdown",
   "metadata": {},
   "source": [
    "#### Recursive Feature Elimination selected 56 Optimal number of features out of 56 total features"
   ]
  },
  {
   "cell_type": "markdown",
   "metadata": {},
   "source": [
    "### XGBoost Model"
   ]
  },
  {
   "cell_type": "code",
   "execution_count": 84,
   "metadata": {},
   "outputs": [
    {
     "name": "stdout",
     "output_type": "stream",
     "text": [
      "Fitting estimator with 56 features.\n",
      "Fitting estimator with 46 features.\n",
      "Fitting estimator with 36 features.\n",
      "Fitting estimator with 26 features.\n",
      "Fitting estimator with 16 features.\n",
      "Fitting estimator with 6 features.\n",
      "Fitting estimator with 56 features.\n",
      "Fitting estimator with 46 features.\n",
      "Fitting estimator with 36 features.\n",
      "Fitting estimator with 26 features.\n",
      "Fitting estimator with 16 features.\n",
      "Fitting estimator with 6 features.\n",
      "Fitting estimator with 56 features.\n",
      "Fitting estimator with 46 features.\n",
      "Fitting estimator with 36 features.\n",
      "Fitting estimator with 26 features.\n",
      "Fitting estimator with 16 features.\n",
      "Fitting estimator with 6 features.\n",
      "Fitting estimator with 56 features.\n",
      "Fitting estimator with 46 features.\n",
      "Fitting estimator with 36 features.\n",
      "Fitting estimator with 26 features.\n",
      "Fitting estimator with 16 features.\n",
      "Fitting estimator with 6 features.\n",
      "Fitting estimator with 56 features.\n",
      "Fitting estimator with 46 features.\n",
      "Fitting estimator with 36 features.\n",
      "Fitting estimator with 26 features.\n",
      "Fitting estimator with 16 features.\n",
      "Fitting estimator with 6 features.\n"
     ]
    },
    {
     "data": {
      "text/plain": [
       "RFECV(cv=5,\n",
       "      estimator=XGBClassifier(base_score=0.5, booster='gbtree',\n",
       "                              colsample_bylevel=1, colsample_bynode=1,\n",
       "                              colsample_bytree=1, gamma=0, learning_rate=0.1,\n",
       "                              max_delta_step=0, max_depth=3, min_child_weight=1,\n",
       "                              missing=None, n_estimators=100, n_jobs=1,\n",
       "                              nthread=None, objective='binary:logistic',\n",
       "                              random_state=0, reg_alpha=0, reg_lambda=1,\n",
       "                              scale_pos_weight=1, seed=None, silent=None,\n",
       "                              subsample=1, verbosity=1),\n",
       "      min_features_to_select=1, n_jobs=None, scoring='roc_auc', step=10,\n",
       "      verbose=1)"
      ]
     },
     "execution_count": 84,
     "metadata": {},
     "output_type": "execute_result"
    }
   ],
   "source": [
    "rfecv_xgb = RFECV(xgb.XGBClassifier(), step=10, scoring='roc_auc', cv=5, verbose=1)\n",
    "rfecv_xgb.fit(X_train, y_train)"
   ]
  },
  {
   "cell_type": "code",
   "execution_count": 85,
   "metadata": {},
   "outputs": [
    {
     "name": "stdout",
     "output_type": "stream",
     "text": [
      "Optimal number of features: 56\n"
     ]
    }
   ],
   "source": [
    "print('Optimal number of features: {}'.format(rfecv_xgb.n_features_))"
   ]
  },
  {
   "cell_type": "code",
   "execution_count": 94,
   "metadata": {},
   "outputs": [
    {
     "name": "stdout",
     "output_type": "stream",
     "text": [
      "['TransactionID' 'TransactionDT' 'TransactionAmt' 'ProductCD' 'card1'\n",
      " 'card2' 'card3' 'card4' 'card5' 'card6' 'addr1' 'addr2' 'dist1' 'dist2'\n",
      " 'P_emaildomain' 'R_emaildomain' 'C1' 'C2' 'C3' 'C4' 'C5' 'C6' 'C7' 'C8'\n",
      " 'C9' 'C10' 'C11' 'C12' 'C13' 'C14' 'D1' 'D2' 'D3' 'D4' 'D5' 'D6' 'D7'\n",
      " 'D8' 'D9' 'D10' 'D11' 'D12' 'D13' 'D14' 'D15' 'M1' 'M2' 'M3' 'M4' 'M5'\n",
      " 'M6' 'M7' 'M8' 'M9' 'DeviceType' 'DeviceInfo']\n"
     ]
    }
   ],
   "source": [
    "print(X_train.columns[rfecv_xgb.ranking_ == 1].values) #Selected Features"
   ]
  },
  {
   "cell_type": "code",
   "execution_count": 95,
   "metadata": {},
   "outputs": [
    {
     "name": "stdout",
     "output_type": "stream",
     "text": [
      "[]\n"
     ]
    }
   ],
   "source": [
    "print(X_train.columns[rfecv_xgb.ranking_ != 1].values) #Features to drop"
   ]
  },
  {
   "cell_type": "code",
   "execution_count": null,
   "metadata": {},
   "outputs": [],
   "source": []
  },
  {
   "cell_type": "markdown",
   "metadata": {},
   "source": [
    "### RandomForest Model"
   ]
  },
  {
   "cell_type": "code",
   "execution_count": 88,
   "metadata": {},
   "outputs": [
    {
     "name": "stdout",
     "output_type": "stream",
     "text": [
      "Fitting estimator with 56 features.\n"
     ]
    },
    {
     "name": "stderr",
     "output_type": "stream",
     "text": [
      "/home/hs/.local/lib/python3.6/site-packages/sklearn/ensemble/forest.py:245: FutureWarning: The default value of n_estimators will change from 10 in version 0.20 to 100 in 0.22.\n",
      "  \"10 in version 0.20 to 100 in 0.22.\", FutureWarning)\n"
     ]
    },
    {
     "name": "stdout",
     "output_type": "stream",
     "text": [
      "Fitting estimator with 46 features.\n"
     ]
    },
    {
     "name": "stderr",
     "output_type": "stream",
     "text": [
      "/home/hs/.local/lib/python3.6/site-packages/sklearn/ensemble/forest.py:245: FutureWarning: The default value of n_estimators will change from 10 in version 0.20 to 100 in 0.22.\n",
      "  \"10 in version 0.20 to 100 in 0.22.\", FutureWarning)\n"
     ]
    },
    {
     "name": "stdout",
     "output_type": "stream",
     "text": [
      "Fitting estimator with 36 features.\n"
     ]
    },
    {
     "name": "stderr",
     "output_type": "stream",
     "text": [
      "/home/hs/.local/lib/python3.6/site-packages/sklearn/ensemble/forest.py:245: FutureWarning: The default value of n_estimators will change from 10 in version 0.20 to 100 in 0.22.\n",
      "  \"10 in version 0.20 to 100 in 0.22.\", FutureWarning)\n"
     ]
    },
    {
     "name": "stdout",
     "output_type": "stream",
     "text": [
      "Fitting estimator with 26 features.\n"
     ]
    },
    {
     "name": "stderr",
     "output_type": "stream",
     "text": [
      "/home/hs/.local/lib/python3.6/site-packages/sklearn/ensemble/forest.py:245: FutureWarning: The default value of n_estimators will change from 10 in version 0.20 to 100 in 0.22.\n",
      "  \"10 in version 0.20 to 100 in 0.22.\", FutureWarning)\n"
     ]
    },
    {
     "name": "stdout",
     "output_type": "stream",
     "text": [
      "Fitting estimator with 16 features.\n"
     ]
    },
    {
     "name": "stderr",
     "output_type": "stream",
     "text": [
      "/home/hs/.local/lib/python3.6/site-packages/sklearn/ensemble/forest.py:245: FutureWarning: The default value of n_estimators will change from 10 in version 0.20 to 100 in 0.22.\n",
      "  \"10 in version 0.20 to 100 in 0.22.\", FutureWarning)\n"
     ]
    },
    {
     "name": "stdout",
     "output_type": "stream",
     "text": [
      "Fitting estimator with 6 features.\n"
     ]
    },
    {
     "name": "stderr",
     "output_type": "stream",
     "text": [
      "/home/hs/.local/lib/python3.6/site-packages/sklearn/ensemble/forest.py:245: FutureWarning: The default value of n_estimators will change from 10 in version 0.20 to 100 in 0.22.\n",
      "  \"10 in version 0.20 to 100 in 0.22.\", FutureWarning)\n",
      "/home/hs/.local/lib/python3.6/site-packages/sklearn/ensemble/forest.py:245: FutureWarning: The default value of n_estimators will change from 10 in version 0.20 to 100 in 0.22.\n",
      "  \"10 in version 0.20 to 100 in 0.22.\", FutureWarning)\n"
     ]
    },
    {
     "name": "stdout",
     "output_type": "stream",
     "text": [
      "Fitting estimator with 56 features.\n"
     ]
    },
    {
     "name": "stderr",
     "output_type": "stream",
     "text": [
      "/home/hs/.local/lib/python3.6/site-packages/sklearn/ensemble/forest.py:245: FutureWarning: The default value of n_estimators will change from 10 in version 0.20 to 100 in 0.22.\n",
      "  \"10 in version 0.20 to 100 in 0.22.\", FutureWarning)\n"
     ]
    },
    {
     "name": "stdout",
     "output_type": "stream",
     "text": [
      "Fitting estimator with 46 features.\n"
     ]
    },
    {
     "name": "stderr",
     "output_type": "stream",
     "text": [
      "/home/hs/.local/lib/python3.6/site-packages/sklearn/ensemble/forest.py:245: FutureWarning: The default value of n_estimators will change from 10 in version 0.20 to 100 in 0.22.\n",
      "  \"10 in version 0.20 to 100 in 0.22.\", FutureWarning)\n"
     ]
    },
    {
     "name": "stdout",
     "output_type": "stream",
     "text": [
      "Fitting estimator with 36 features.\n"
     ]
    },
    {
     "name": "stderr",
     "output_type": "stream",
     "text": [
      "/home/hs/.local/lib/python3.6/site-packages/sklearn/ensemble/forest.py:245: FutureWarning: The default value of n_estimators will change from 10 in version 0.20 to 100 in 0.22.\n",
      "  \"10 in version 0.20 to 100 in 0.22.\", FutureWarning)\n"
     ]
    },
    {
     "name": "stdout",
     "output_type": "stream",
     "text": [
      "Fitting estimator with 26 features.\n"
     ]
    },
    {
     "name": "stderr",
     "output_type": "stream",
     "text": [
      "/home/hs/.local/lib/python3.6/site-packages/sklearn/ensemble/forest.py:245: FutureWarning: The default value of n_estimators will change from 10 in version 0.20 to 100 in 0.22.\n",
      "  \"10 in version 0.20 to 100 in 0.22.\", FutureWarning)\n"
     ]
    },
    {
     "name": "stdout",
     "output_type": "stream",
     "text": [
      "Fitting estimator with 16 features.\n"
     ]
    },
    {
     "name": "stderr",
     "output_type": "stream",
     "text": [
      "/home/hs/.local/lib/python3.6/site-packages/sklearn/ensemble/forest.py:245: FutureWarning: The default value of n_estimators will change from 10 in version 0.20 to 100 in 0.22.\n",
      "  \"10 in version 0.20 to 100 in 0.22.\", FutureWarning)\n"
     ]
    },
    {
     "name": "stdout",
     "output_type": "stream",
     "text": [
      "Fitting estimator with 6 features.\n"
     ]
    },
    {
     "name": "stderr",
     "output_type": "stream",
     "text": [
      "/home/hs/.local/lib/python3.6/site-packages/sklearn/ensemble/forest.py:245: FutureWarning: The default value of n_estimators will change from 10 in version 0.20 to 100 in 0.22.\n",
      "  \"10 in version 0.20 to 100 in 0.22.\", FutureWarning)\n",
      "/home/hs/.local/lib/python3.6/site-packages/sklearn/ensemble/forest.py:245: FutureWarning: The default value of n_estimators will change from 10 in version 0.20 to 100 in 0.22.\n",
      "  \"10 in version 0.20 to 100 in 0.22.\", FutureWarning)\n"
     ]
    },
    {
     "name": "stdout",
     "output_type": "stream",
     "text": [
      "Fitting estimator with 56 features.\n"
     ]
    },
    {
     "name": "stderr",
     "output_type": "stream",
     "text": [
      "/home/hs/.local/lib/python3.6/site-packages/sklearn/ensemble/forest.py:245: FutureWarning: The default value of n_estimators will change from 10 in version 0.20 to 100 in 0.22.\n",
      "  \"10 in version 0.20 to 100 in 0.22.\", FutureWarning)\n"
     ]
    },
    {
     "name": "stdout",
     "output_type": "stream",
     "text": [
      "Fitting estimator with 46 features.\n"
     ]
    },
    {
     "name": "stderr",
     "output_type": "stream",
     "text": [
      "/home/hs/.local/lib/python3.6/site-packages/sklearn/ensemble/forest.py:245: FutureWarning: The default value of n_estimators will change from 10 in version 0.20 to 100 in 0.22.\n",
      "  \"10 in version 0.20 to 100 in 0.22.\", FutureWarning)\n"
     ]
    },
    {
     "name": "stdout",
     "output_type": "stream",
     "text": [
      "Fitting estimator with 36 features.\n"
     ]
    },
    {
     "name": "stderr",
     "output_type": "stream",
     "text": [
      "/home/hs/.local/lib/python3.6/site-packages/sklearn/ensemble/forest.py:245: FutureWarning: The default value of n_estimators will change from 10 in version 0.20 to 100 in 0.22.\n",
      "  \"10 in version 0.20 to 100 in 0.22.\", FutureWarning)\n"
     ]
    },
    {
     "name": "stdout",
     "output_type": "stream",
     "text": [
      "Fitting estimator with 26 features.\n"
     ]
    },
    {
     "name": "stderr",
     "output_type": "stream",
     "text": [
      "/home/hs/.local/lib/python3.6/site-packages/sklearn/ensemble/forest.py:245: FutureWarning: The default value of n_estimators will change from 10 in version 0.20 to 100 in 0.22.\n",
      "  \"10 in version 0.20 to 100 in 0.22.\", FutureWarning)\n"
     ]
    },
    {
     "name": "stdout",
     "output_type": "stream",
     "text": [
      "Fitting estimator with 16 features.\n"
     ]
    },
    {
     "name": "stderr",
     "output_type": "stream",
     "text": [
      "/home/hs/.local/lib/python3.6/site-packages/sklearn/ensemble/forest.py:245: FutureWarning: The default value of n_estimators will change from 10 in version 0.20 to 100 in 0.22.\n",
      "  \"10 in version 0.20 to 100 in 0.22.\", FutureWarning)\n"
     ]
    },
    {
     "name": "stdout",
     "output_type": "stream",
     "text": [
      "Fitting estimator with 6 features.\n"
     ]
    },
    {
     "name": "stderr",
     "output_type": "stream",
     "text": [
      "/home/hs/.local/lib/python3.6/site-packages/sklearn/ensemble/forest.py:245: FutureWarning: The default value of n_estimators will change from 10 in version 0.20 to 100 in 0.22.\n",
      "  \"10 in version 0.20 to 100 in 0.22.\", FutureWarning)\n",
      "/home/hs/.local/lib/python3.6/site-packages/sklearn/ensemble/forest.py:245: FutureWarning: The default value of n_estimators will change from 10 in version 0.20 to 100 in 0.22.\n",
      "  \"10 in version 0.20 to 100 in 0.22.\", FutureWarning)\n"
     ]
    },
    {
     "name": "stdout",
     "output_type": "stream",
     "text": [
      "Fitting estimator with 56 features.\n"
     ]
    },
    {
     "name": "stderr",
     "output_type": "stream",
     "text": [
      "/home/hs/.local/lib/python3.6/site-packages/sklearn/ensemble/forest.py:245: FutureWarning: The default value of n_estimators will change from 10 in version 0.20 to 100 in 0.22.\n",
      "  \"10 in version 0.20 to 100 in 0.22.\", FutureWarning)\n"
     ]
    },
    {
     "name": "stdout",
     "output_type": "stream",
     "text": [
      "Fitting estimator with 46 features.\n"
     ]
    },
    {
     "name": "stderr",
     "output_type": "stream",
     "text": [
      "/home/hs/.local/lib/python3.6/site-packages/sklearn/ensemble/forest.py:245: FutureWarning: The default value of n_estimators will change from 10 in version 0.20 to 100 in 0.22.\n",
      "  \"10 in version 0.20 to 100 in 0.22.\", FutureWarning)\n"
     ]
    },
    {
     "name": "stdout",
     "output_type": "stream",
     "text": [
      "Fitting estimator with 36 features.\n"
     ]
    },
    {
     "name": "stderr",
     "output_type": "stream",
     "text": [
      "/home/hs/.local/lib/python3.6/site-packages/sklearn/ensemble/forest.py:245: FutureWarning: The default value of n_estimators will change from 10 in version 0.20 to 100 in 0.22.\n",
      "  \"10 in version 0.20 to 100 in 0.22.\", FutureWarning)\n"
     ]
    },
    {
     "name": "stdout",
     "output_type": "stream",
     "text": [
      "Fitting estimator with 26 features.\n"
     ]
    },
    {
     "name": "stderr",
     "output_type": "stream",
     "text": [
      "/home/hs/.local/lib/python3.6/site-packages/sklearn/ensemble/forest.py:245: FutureWarning: The default value of n_estimators will change from 10 in version 0.20 to 100 in 0.22.\n",
      "  \"10 in version 0.20 to 100 in 0.22.\", FutureWarning)\n"
     ]
    },
    {
     "name": "stdout",
     "output_type": "stream",
     "text": [
      "Fitting estimator with 16 features.\n"
     ]
    },
    {
     "name": "stderr",
     "output_type": "stream",
     "text": [
      "/home/hs/.local/lib/python3.6/site-packages/sklearn/ensemble/forest.py:245: FutureWarning: The default value of n_estimators will change from 10 in version 0.20 to 100 in 0.22.\n",
      "  \"10 in version 0.20 to 100 in 0.22.\", FutureWarning)\n"
     ]
    },
    {
     "name": "stdout",
     "output_type": "stream",
     "text": [
      "Fitting estimator with 6 features.\n"
     ]
    },
    {
     "name": "stderr",
     "output_type": "stream",
     "text": [
      "/home/hs/.local/lib/python3.6/site-packages/sklearn/ensemble/forest.py:245: FutureWarning: The default value of n_estimators will change from 10 in version 0.20 to 100 in 0.22.\n",
      "  \"10 in version 0.20 to 100 in 0.22.\", FutureWarning)\n",
      "/home/hs/.local/lib/python3.6/site-packages/sklearn/ensemble/forest.py:245: FutureWarning: The default value of n_estimators will change from 10 in version 0.20 to 100 in 0.22.\n",
      "  \"10 in version 0.20 to 100 in 0.22.\", FutureWarning)\n"
     ]
    },
    {
     "name": "stdout",
     "output_type": "stream",
     "text": [
      "Fitting estimator with 56 features.\n"
     ]
    },
    {
     "name": "stderr",
     "output_type": "stream",
     "text": [
      "/home/hs/.local/lib/python3.6/site-packages/sklearn/ensemble/forest.py:245: FutureWarning: The default value of n_estimators will change from 10 in version 0.20 to 100 in 0.22.\n",
      "  \"10 in version 0.20 to 100 in 0.22.\", FutureWarning)\n"
     ]
    },
    {
     "name": "stdout",
     "output_type": "stream",
     "text": [
      "Fitting estimator with 46 features.\n"
     ]
    },
    {
     "name": "stderr",
     "output_type": "stream",
     "text": [
      "/home/hs/.local/lib/python3.6/site-packages/sklearn/ensemble/forest.py:245: FutureWarning: The default value of n_estimators will change from 10 in version 0.20 to 100 in 0.22.\n",
      "  \"10 in version 0.20 to 100 in 0.22.\", FutureWarning)\n"
     ]
    },
    {
     "name": "stdout",
     "output_type": "stream",
     "text": [
      "Fitting estimator with 36 features.\n"
     ]
    },
    {
     "name": "stderr",
     "output_type": "stream",
     "text": [
      "/home/hs/.local/lib/python3.6/site-packages/sklearn/ensemble/forest.py:245: FutureWarning: The default value of n_estimators will change from 10 in version 0.20 to 100 in 0.22.\n",
      "  \"10 in version 0.20 to 100 in 0.22.\", FutureWarning)\n"
     ]
    },
    {
     "name": "stdout",
     "output_type": "stream",
     "text": [
      "Fitting estimator with 26 features.\n"
     ]
    },
    {
     "name": "stderr",
     "output_type": "stream",
     "text": [
      "/home/hs/.local/lib/python3.6/site-packages/sklearn/ensemble/forest.py:245: FutureWarning: The default value of n_estimators will change from 10 in version 0.20 to 100 in 0.22.\n",
      "  \"10 in version 0.20 to 100 in 0.22.\", FutureWarning)\n"
     ]
    },
    {
     "name": "stdout",
     "output_type": "stream",
     "text": [
      "Fitting estimator with 16 features.\n"
     ]
    },
    {
     "name": "stderr",
     "output_type": "stream",
     "text": [
      "/home/hs/.local/lib/python3.6/site-packages/sklearn/ensemble/forest.py:245: FutureWarning: The default value of n_estimators will change from 10 in version 0.20 to 100 in 0.22.\n",
      "  \"10 in version 0.20 to 100 in 0.22.\", FutureWarning)\n"
     ]
    },
    {
     "name": "stdout",
     "output_type": "stream",
     "text": [
      "Fitting estimator with 6 features.\n"
     ]
    },
    {
     "name": "stderr",
     "output_type": "stream",
     "text": [
      "/home/hs/.local/lib/python3.6/site-packages/sklearn/ensemble/forest.py:245: FutureWarning: The default value of n_estimators will change from 10 in version 0.20 to 100 in 0.22.\n",
      "  \"10 in version 0.20 to 100 in 0.22.\", FutureWarning)\n",
      "/home/hs/.local/lib/python3.6/site-packages/sklearn/ensemble/forest.py:245: FutureWarning: The default value of n_estimators will change from 10 in version 0.20 to 100 in 0.22.\n",
      "  \"10 in version 0.20 to 100 in 0.22.\", FutureWarning)\n"
     ]
    },
    {
     "name": "stdout",
     "output_type": "stream",
     "text": [
      "Fitting estimator with 56 features.\n"
     ]
    },
    {
     "name": "stderr",
     "output_type": "stream",
     "text": [
      "/home/hs/.local/lib/python3.6/site-packages/sklearn/ensemble/forest.py:245: FutureWarning: The default value of n_estimators will change from 10 in version 0.20 to 100 in 0.22.\n",
      "  \"10 in version 0.20 to 100 in 0.22.\", FutureWarning)\n",
      "/home/hs/.local/lib/python3.6/site-packages/sklearn/ensemble/forest.py:245: FutureWarning: The default value of n_estimators will change from 10 in version 0.20 to 100 in 0.22.\n",
      "  \"10 in version 0.20 to 100 in 0.22.\", FutureWarning)\n",
      "/home/hs/.local/lib/python3.6/site-packages/sklearn/ensemble/forest.py:245: FutureWarning: The default value of n_estimators will change from 10 in version 0.20 to 100 in 0.22.\n",
      "  \"10 in version 0.20 to 100 in 0.22.\", FutureWarning)\n"
     ]
    },
    {
     "data": {
      "text/plain": [
       "RFECV(cv=5,\n",
       "      estimator=RandomForestClassifier(bootstrap=True, class_weight=None,\n",
       "                                       criterion='gini', max_depth=None,\n",
       "                                       max_features='auto', max_leaf_nodes=None,\n",
       "                                       min_impurity_decrease=0.0,\n",
       "                                       min_impurity_split=None,\n",
       "                                       min_samples_leaf=1, min_samples_split=2,\n",
       "                                       min_weight_fraction_leaf=0.0,\n",
       "                                       n_estimators='warn', n_jobs=None,\n",
       "                                       oob_score=False, random_state=None,\n",
       "                                       verbose=0, warm_start=False),\n",
       "      min_features_to_select=1, n_jobs=None, scoring='roc_auc', step=10,\n",
       "      verbose=1)"
      ]
     },
     "execution_count": 88,
     "metadata": {},
     "output_type": "execute_result"
    }
   ],
   "source": [
    "rfc = RandomForestClassifier()\n",
    "rfecv_rf = RFECV(estimator=rfc, step=10, scoring='roc_auc', cv=5, verbose=1)\n",
    "rfecv_rf.fit(X_train, y_train)"
   ]
  },
  {
   "cell_type": "code",
   "execution_count": 89,
   "metadata": {},
   "outputs": [
    {
     "name": "stdout",
     "output_type": "stream",
     "text": [
      "Optimal number of features: 46\n"
     ]
    }
   ],
   "source": [
    "print('Optimal number of features: {}'.format(rfecv_rf.n_features_))"
   ]
  },
  {
   "cell_type": "code",
   "execution_count": 92,
   "metadata": {},
   "outputs": [
    {
     "name": "stdout",
     "output_type": "stream",
     "text": [
      "['TransactionID' 'TransactionDT' 'TransactionAmt' 'ProductCD' 'card1'\n",
      " 'card2' 'card3' 'card4' 'card5' 'card6' 'addr1' 'addr2' 'dist1' 'dist2'\n",
      " 'P_emaildomain' 'R_emaildomain' 'C1' 'C2' 'C4' 'C5' 'C6' 'C7' 'C8' 'C9'\n",
      " 'C10' 'C11' 'C12' 'C13' 'C14' 'D1' 'D2' 'D3' 'D4' 'D5' 'D6' 'D7' 'D8'\n",
      " 'D9' 'D10' 'D11' 'D12' 'D14' 'D15' 'M4' 'M6' 'DeviceInfo']\n"
     ]
    }
   ],
   "source": [
    "print(X_train.columns[rfecv_rf.ranking_ == 1].values) #Selected Features"
   ]
  },
  {
   "cell_type": "code",
   "execution_count": 93,
   "metadata": {},
   "outputs": [
    {
     "name": "stdout",
     "output_type": "stream",
     "text": [
      "['C3' 'D13' 'M1' 'M2' 'M3' 'M5' 'M7' 'M8' 'M9' 'DeviceType']\n"
     ]
    }
   ],
   "source": [
    "print(X_train.columns[rfecv_rf.ranking_ != 1].values) #Features to drop"
   ]
  },
  {
   "cell_type": "markdown",
   "metadata": {},
   "source": [
    "## BORUTA"
   ]
  },
  {
   "cell_type": "markdown",
   "metadata": {},
   "source": [
    "#### BORUTA captures all the important and interesting features in dataset with respect to an outcome variable. Boruta find all relevant features useful for prediction, instead of defining a subset of features with minimal error. First of all BORUTA duplicates the dataset and shuffle the values (shadow features) in each column. Then it trains a classifier on the dataset. For the next step the algorithm checks for each real features if they have higher importance. After a predefined set of iterations, we will have a table of hits. At every iteration BORUTA compares the Z-scores (number of standard deviations from the mean a data point) of the shuffled copies of the features and the original features to see if the latter performed better than the former. If it does, the algorithm will mark the feature as important.  BORUTA is trying to validate the importance of the feature by comparing with random shuffled copies and this process is happening by simply comparing the number of times a feature did better with the shadow features using a binomial distribution. After a set number of iterations some features are either confirmed or rejected."
   ]
  },
  {
   "cell_type": "markdown",
   "metadata": {},
   "source": [
    "### RandomForest Model"
   ]
  },
  {
   "cell_type": "code",
   "execution_count": 99,
   "metadata": {},
   "outputs": [
    {
     "name": "stdout",
     "output_type": "stream",
     "text": [
      "Iteration: \t1 / 100\n",
      "Confirmed: \t0\n",
      "Tentative: \t56\n",
      "Rejected: \t0\n",
      "Iteration: \t2 / 100\n",
      "Confirmed: \t0\n",
      "Tentative: \t56\n",
      "Rejected: \t0\n",
      "Iteration: \t3 / 100\n",
      "Confirmed: \t0\n",
      "Tentative: \t56\n",
      "Rejected: \t0\n",
      "Iteration: \t4 / 100\n",
      "Confirmed: \t0\n",
      "Tentative: \t56\n",
      "Rejected: \t0\n",
      "Iteration: \t5 / 100\n",
      "Confirmed: \t0\n",
      "Tentative: \t56\n",
      "Rejected: \t0\n",
      "Iteration: \t6 / 100\n",
      "Confirmed: \t0\n",
      "Tentative: \t56\n",
      "Rejected: \t0\n",
      "Iteration: \t7 / 100\n",
      "Confirmed: \t0\n",
      "Tentative: \t56\n",
      "Rejected: \t0\n",
      "Iteration: \t8 / 100\n",
      "Confirmed: \t34\n",
      "Tentative: \t22\n",
      "Rejected: \t0\n",
      "Iteration: \t9 / 100\n",
      "Confirmed: \t34\n",
      "Tentative: \t22\n",
      "Rejected: \t0\n",
      "Iteration: \t10 / 100\n",
      "Confirmed: \t34\n",
      "Tentative: \t22\n",
      "Rejected: \t0\n",
      "Iteration: \t11 / 100\n",
      "Confirmed: \t34\n",
      "Tentative: \t21\n",
      "Rejected: \t1\n",
      "Iteration: \t12 / 100\n",
      "Confirmed: \t38\n",
      "Tentative: \t17\n",
      "Rejected: \t1\n",
      "Iteration: \t13 / 100\n",
      "Confirmed: \t38\n",
      "Tentative: \t17\n",
      "Rejected: \t1\n",
      "Iteration: \t14 / 100\n",
      "Confirmed: \t38\n",
      "Tentative: \t17\n",
      "Rejected: \t1\n",
      "Iteration: \t15 / 100\n",
      "Confirmed: \t38\n",
      "Tentative: \t16\n",
      "Rejected: \t2\n",
      "Iteration: \t16 / 100\n",
      "Confirmed: \t40\n",
      "Tentative: \t14\n",
      "Rejected: \t2\n",
      "Iteration: \t17 / 100\n",
      "Confirmed: \t40\n",
      "Tentative: \t12\n",
      "Rejected: \t4\n",
      "Iteration: \t18 / 100\n",
      "Confirmed: \t40\n",
      "Tentative: \t12\n",
      "Rejected: \t4\n",
      "Iteration: \t19 / 100\n",
      "Confirmed: \t40\n",
      "Tentative: \t12\n",
      "Rejected: \t4\n",
      "Iteration: \t20 / 100\n",
      "Confirmed: \t40\n",
      "Tentative: \t12\n",
      "Rejected: \t4\n",
      "Iteration: \t21 / 100\n",
      "Confirmed: \t40\n",
      "Tentative: \t12\n",
      "Rejected: \t4\n",
      "Iteration: \t22 / 100\n",
      "Confirmed: \t41\n",
      "Tentative: \t11\n",
      "Rejected: \t4\n",
      "Iteration: \t23 / 100\n",
      "Confirmed: \t41\n",
      "Tentative: \t11\n",
      "Rejected: \t4\n",
      "Iteration: \t24 / 100\n",
      "Confirmed: \t41\n",
      "Tentative: \t11\n",
      "Rejected: \t4\n",
      "Iteration: \t25 / 100\n",
      "Confirmed: \t41\n",
      "Tentative: \t11\n",
      "Rejected: \t4\n",
      "Iteration: \t26 / 100\n",
      "Confirmed: \t42\n",
      "Tentative: \t10\n",
      "Rejected: \t4\n",
      "Iteration: \t27 / 100\n",
      "Confirmed: \t42\n",
      "Tentative: \t9\n",
      "Rejected: \t5\n",
      "Iteration: \t28 / 100\n",
      "Confirmed: \t42\n",
      "Tentative: \t9\n",
      "Rejected: \t5\n",
      "Iteration: \t29 / 100\n",
      "Confirmed: \t42\n",
      "Tentative: \t9\n",
      "Rejected: \t5\n",
      "Iteration: \t30 / 100\n",
      "Confirmed: \t42\n",
      "Tentative: \t9\n",
      "Rejected: \t5\n",
      "Iteration: \t31 / 100\n",
      "Confirmed: \t42\n",
      "Tentative: \t9\n",
      "Rejected: \t5\n",
      "Iteration: \t32 / 100\n",
      "Confirmed: \t42\n",
      "Tentative: \t9\n",
      "Rejected: \t5\n",
      "Iteration: \t33 / 100\n",
      "Confirmed: \t42\n",
      "Tentative: \t9\n",
      "Rejected: \t5\n",
      "Iteration: \t34 / 100\n",
      "Confirmed: \t42\n",
      "Tentative: \t9\n",
      "Rejected: \t5\n",
      "Iteration: \t35 / 100\n",
      "Confirmed: \t42\n",
      "Tentative: \t9\n",
      "Rejected: \t5\n",
      "Iteration: \t36 / 100\n",
      "Confirmed: \t42\n",
      "Tentative: \t9\n",
      "Rejected: \t5\n",
      "Iteration: \t37 / 100\n",
      "Confirmed: \t42\n",
      "Tentative: \t9\n",
      "Rejected: \t5\n",
      "Iteration: \t38 / 100\n",
      "Confirmed: \t42\n",
      "Tentative: \t9\n",
      "Rejected: \t5\n",
      "Iteration: \t39 / 100\n",
      "Confirmed: \t42\n",
      "Tentative: \t9\n",
      "Rejected: \t5\n",
      "Iteration: \t40 / 100\n",
      "Confirmed: \t42\n",
      "Tentative: \t9\n",
      "Rejected: \t5\n",
      "Iteration: \t41 / 100\n",
      "Confirmed: \t42\n",
      "Tentative: \t9\n",
      "Rejected: \t5\n",
      "Iteration: \t42 / 100\n",
      "Confirmed: \t42\n",
      "Tentative: \t9\n",
      "Rejected: \t5\n",
      "Iteration: \t43 / 100\n",
      "Confirmed: \t42\n",
      "Tentative: \t9\n",
      "Rejected: \t5\n",
      "Iteration: \t44 / 100\n",
      "Confirmed: \t42\n",
      "Tentative: \t9\n",
      "Rejected: \t5\n",
      "Iteration: \t45 / 100\n",
      "Confirmed: \t42\n",
      "Tentative: \t9\n",
      "Rejected: \t5\n",
      "Iteration: \t46 / 100\n",
      "Confirmed: \t42\n",
      "Tentative: \t9\n",
      "Rejected: \t5\n",
      "Iteration: \t47 / 100\n",
      "Confirmed: \t42\n",
      "Tentative: \t9\n",
      "Rejected: \t5\n",
      "Iteration: \t48 / 100\n",
      "Confirmed: \t42\n",
      "Tentative: \t9\n",
      "Rejected: \t5\n",
      "Iteration: \t49 / 100\n",
      "Confirmed: \t42\n",
      "Tentative: \t9\n",
      "Rejected: \t5\n",
      "Iteration: \t50 / 100\n",
      "Confirmed: \t42\n",
      "Tentative: \t9\n",
      "Rejected: \t5\n",
      "Iteration: \t51 / 100\n",
      "Confirmed: \t43\n",
      "Tentative: \t8\n",
      "Rejected: \t5\n",
      "Iteration: \t52 / 100\n",
      "Confirmed: \t43\n",
      "Tentative: \t8\n",
      "Rejected: \t5\n",
      "Iteration: \t53 / 100\n",
      "Confirmed: \t43\n",
      "Tentative: \t8\n",
      "Rejected: \t5\n",
      "Iteration: \t54 / 100\n",
      "Confirmed: \t43\n",
      "Tentative: \t8\n",
      "Rejected: \t5\n",
      "Iteration: \t55 / 100\n",
      "Confirmed: \t43\n",
      "Tentative: \t8\n",
      "Rejected: \t5\n",
      "Iteration: \t56 / 100\n",
      "Confirmed: \t43\n",
      "Tentative: \t8\n",
      "Rejected: \t5\n",
      "Iteration: \t57 / 100\n",
      "Confirmed: \t43\n",
      "Tentative: \t8\n",
      "Rejected: \t5\n",
      "Iteration: \t58 / 100\n",
      "Confirmed: \t43\n",
      "Tentative: \t8\n",
      "Rejected: \t5\n",
      "Iteration: \t59 / 100\n",
      "Confirmed: \t44\n",
      "Tentative: \t7\n",
      "Rejected: \t5\n",
      "Iteration: \t60 / 100\n",
      "Confirmed: \t44\n",
      "Tentative: \t7\n",
      "Rejected: \t5\n",
      "Iteration: \t61 / 100\n",
      "Confirmed: \t44\n",
      "Tentative: \t7\n",
      "Rejected: \t5\n",
      "Iteration: \t62 / 100\n",
      "Confirmed: \t44\n",
      "Tentative: \t7\n",
      "Rejected: \t5\n",
      "Iteration: \t63 / 100\n",
      "Confirmed: \t44\n",
      "Tentative: \t7\n",
      "Rejected: \t5\n",
      "Iteration: \t64 / 100\n",
      "Confirmed: \t44\n",
      "Tentative: \t7\n",
      "Rejected: \t5\n",
      "Iteration: \t65 / 100\n",
      "Confirmed: \t44\n",
      "Tentative: \t7\n",
      "Rejected: \t5\n",
      "Iteration: \t66 / 100\n",
      "Confirmed: \t44\n",
      "Tentative: \t7\n",
      "Rejected: \t5\n",
      "Iteration: \t67 / 100\n",
      "Confirmed: \t44\n",
      "Tentative: \t7\n",
      "Rejected: \t5\n",
      "Iteration: \t68 / 100\n",
      "Confirmed: \t44\n",
      "Tentative: \t7\n",
      "Rejected: \t5\n",
      "Iteration: \t69 / 100\n",
      "Confirmed: \t44\n",
      "Tentative: \t7\n",
      "Rejected: \t5\n",
      "Iteration: \t70 / 100\n",
      "Confirmed: \t44\n",
      "Tentative: \t7\n",
      "Rejected: \t5\n",
      "Iteration: \t71 / 100\n",
      "Confirmed: \t44\n",
      "Tentative: \t7\n",
      "Rejected: \t5\n",
      "Iteration: \t72 / 100\n",
      "Confirmed: \t46\n",
      "Tentative: \t5\n",
      "Rejected: \t5\n",
      "Iteration: \t73 / 100\n",
      "Confirmed: \t46\n",
      "Tentative: \t5\n",
      "Rejected: \t5\n",
      "Iteration: \t74 / 100\n",
      "Confirmed: \t46\n",
      "Tentative: \t5\n",
      "Rejected: \t5\n",
      "Iteration: \t75 / 100\n",
      "Confirmed: \t46\n",
      "Tentative: \t5\n",
      "Rejected: \t5\n",
      "Iteration: \t76 / 100\n",
      "Confirmed: \t46\n",
      "Tentative: \t5\n",
      "Rejected: \t5\n",
      "Iteration: \t77 / 100\n",
      "Confirmed: \t46\n",
      "Tentative: \t5\n",
      "Rejected: \t5\n",
      "Iteration: \t78 / 100\n",
      "Confirmed: \t46\n",
      "Tentative: \t5\n",
      "Rejected: \t5\n",
      "Iteration: \t79 / 100\n",
      "Confirmed: \t46\n",
      "Tentative: \t5\n",
      "Rejected: \t5\n",
      "Iteration: \t80 / 100\n",
      "Confirmed: \t46\n",
      "Tentative: \t5\n",
      "Rejected: \t5\n",
      "Iteration: \t81 / 100\n",
      "Confirmed: \t46\n",
      "Tentative: \t5\n",
      "Rejected: \t5\n",
      "Iteration: \t82 / 100\n",
      "Confirmed: \t46\n",
      "Tentative: \t5\n",
      "Rejected: \t5\n",
      "Iteration: \t83 / 100\n",
      "Confirmed: \t46\n",
      "Tentative: \t5\n",
      "Rejected: \t5\n",
      "Iteration: \t84 / 100\n",
      "Confirmed: \t46\n",
      "Tentative: \t5\n",
      "Rejected: \t5\n",
      "Iteration: \t85 / 100\n",
      "Confirmed: \t46\n",
      "Tentative: \t5\n",
      "Rejected: \t5\n",
      "Iteration: \t86 / 100\n",
      "Confirmed: \t46\n",
      "Tentative: \t5\n",
      "Rejected: \t5\n",
      "Iteration: \t87 / 100\n",
      "Confirmed: \t46\n",
      "Tentative: \t5\n",
      "Rejected: \t5\n",
      "Iteration: \t88 / 100\n",
      "Confirmed: \t46\n",
      "Tentative: \t5\n",
      "Rejected: \t5\n",
      "Iteration: \t89 / 100\n",
      "Confirmed: \t46\n",
      "Tentative: \t5\n",
      "Rejected: \t5\n",
      "Iteration: \t90 / 100\n",
      "Confirmed: \t46\n",
      "Tentative: \t5\n",
      "Rejected: \t5\n",
      "Iteration: \t91 / 100\n",
      "Confirmed: \t46\n",
      "Tentative: \t5\n",
      "Rejected: \t5\n",
      "Iteration: \t92 / 100\n",
      "Confirmed: \t46\n",
      "Tentative: \t5\n",
      "Rejected: \t5\n",
      "Iteration: \t93 / 100\n",
      "Confirmed: \t46\n",
      "Tentative: \t5\n",
      "Rejected: \t5\n",
      "Iteration: \t94 / 100\n",
      "Confirmed: \t46\n",
      "Tentative: \t5\n",
      "Rejected: \t5\n",
      "Iteration: \t95 / 100\n",
      "Confirmed: \t46\n",
      "Tentative: \t5\n",
      "Rejected: \t5\n",
      "Iteration: \t96 / 100\n",
      "Confirmed: \t46\n",
      "Tentative: \t5\n",
      "Rejected: \t5\n",
      "Iteration: \t97 / 100\n",
      "Confirmed: \t46\n",
      "Tentative: \t5\n",
      "Rejected: \t5\n",
      "Iteration: \t98 / 100\n",
      "Confirmed: \t46\n",
      "Tentative: \t5\n",
      "Rejected: \t5\n",
      "Iteration: \t99 / 100\n",
      "Confirmed: \t46\n",
      "Tentative: \t5\n",
      "Rejected: \t5\n",
      "\n",
      "\n",
      "BorutaPy finished running.\n",
      "\n",
      "Iteration: \t100 / 100\n",
      "Confirmed: \t46\n",
      "Tentative: \t3\n",
      "Rejected: \t5\n"
     ]
    },
    {
     "data": {
      "text/plain": [
       "BorutaPy(alpha=0.05,\n",
       "         estimator=RandomForestClassifier(bootstrap=True,\n",
       "                                          class_weight='balanced',\n",
       "                                          criterion='gini', max_depth=5,\n",
       "                                          max_features='auto',\n",
       "                                          max_leaf_nodes=None,\n",
       "                                          min_impurity_decrease=0.0,\n",
       "                                          min_impurity_split=None,\n",
       "                                          min_samples_leaf=1,\n",
       "                                          min_samples_split=2,\n",
       "                                          min_weight_fraction_leaf=0.0,\n",
       "                                          n_estimators=10, n_jobs=-1,\n",
       "                                          oob_score=False,\n",
       "                                          random_state=RandomState(MT19937) at 0x7FCCEBB65570,\n",
       "                                          verbose=0, warm_start=False),\n",
       "         max_iter=100, n_estimators=10, perc=100,\n",
       "         random_state=RandomState(MT19937) at 0x7FCCEBB65570, two_step=True,\n",
       "         verbose=3)"
      ]
     },
     "execution_count": 99,
     "metadata": {},
     "output_type": "execute_result"
    }
   ],
   "source": [
    "rfc = RandomForestClassifier(n_jobs=-1, class_weight='balanced', max_depth=5)\n",
    "boruta_selector = BorutaPy(rfc,  n_estimators=10, verbose=3, random_state=1)\n",
    "boruta_selector.fit(X_train.values, y_train.values)"
   ]
  },
  {
   "cell_type": "code",
   "execution_count": 100,
   "metadata": {},
   "outputs": [],
   "source": [
    "#bootstrap >> Whether samples are drawn with replacement (default=True)\n",
    "#class_weight >> \"balanced\" uses the values of y to automatically adjust weights\n",
    "#criterion >> measures the quality of a split (default=”gini”) “entropy” for the information gain.\n",
    "# Gini impurity measures probability of a variable being wrongly classified when it is randomly chosen. \n",
    "#max_depth >> Maximum tree depth for base learners.\n",
    "#max_features >> maximum number of features (default='auto')\n",
    "#max_leaf_nodes >> Total number of terminal nodes (leaves) in a tree (default=None)\n",
    "#min_impurity_decrease >> gini-index or cross-entropy is used to calculate pureness of a split (default=0.0)\n",
    "#min_impurity_split >> Threshold for early stopping in tree growth.\n",
    "#min_samples_leaf >> minimum number of samples required to be at a leaf node (default=1)\n",
    "#min_samples_split >> minimum number of samples required to split an internal node (default=2)\n",
    "#min_weight_fraction_leaf >> min. weighted fraction of sum total of weights need to be at leaf node(default=0.0)\n",
    "#n_estimators >> Number of boosted trees to fit (default='auto')\n",
    "#n_jobs >> Number of parallel threas (default=-1)\n",
    "#oob_score >> Whether to use out-of-bag samples to estimate the generalization accuracy (default=False)\n",
    "#random_state >> Random number seed.\n",
    "#verbose >> Requires at least one evaluation data. \n",
    "#warm_start >> reduce the computational time                          "
   ]
  },
  {
   "cell_type": "code",
   "execution_count": 101,
   "metadata": {},
   "outputs": [
    {
     "name": "stdout",
     "output_type": "stream",
     "text": [
      "\n",
      " Initial features:  ['TransactionID', 'TransactionDT', 'TransactionAmt', 'ProductCD', 'card1', 'card2', 'card3', 'card4', 'card5', 'card6', 'addr1', 'addr2', 'dist1', 'dist2', 'P_emaildomain', 'R_emaildomain', 'C1', 'C2', 'C3', 'C4', 'C5', 'C6', 'C7', 'C8', 'C9', 'C10', 'C11', 'C12', 'C13', 'C14', 'D1', 'D2', 'D3', 'D4', 'D5', 'D6', 'D7', 'D8', 'D9', 'D10', 'D11', 'D12', 'D13', 'D14', 'D15', 'M1', 'M2', 'M3', 'M4', 'M5', 'M6', 'M7', 'M8', 'M9', 'DeviceType', 'DeviceInfo']\n",
      "\n",
      " Number of selected features:\n",
      "46\n"
     ]
    }
   ],
   "source": [
    "print ('\\n Initial features: ', X_train.columns.tolist() )\n",
    "\n",
    "# number of selected features\n",
    "print ('\\n Number of selected features:')\n",
    "print (boruta_selector.n_features_)"
   ]
  },
  {
   "cell_type": "code",
   "execution_count": 102,
   "metadata": {},
   "outputs": [
    {
     "name": "stdout",
     "output_type": "stream",
     "text": [
      "\n",
      " Top 46 features:\n",
      "          features  rank\n",
      "0    TransactionID     1\n",
      "1              C11     1\n",
      "2       DeviceType     1\n",
      "3              C13     1\n",
      "4              C14     1\n",
      "5               D1     1\n",
      "6               D2     1\n",
      "7               D3     1\n",
      "8               D4     1\n",
      "9               D5     1\n",
      "10              D6     1\n",
      "11              D7     1\n",
      "12              D8     1\n",
      "13              D9     1\n",
      "14             D10     1\n",
      "15             D11     1\n",
      "16             D12     1\n",
      "17             D13     1\n",
      "18             D14     1\n",
      "19             D15     1\n",
      "20              M4     1\n",
      "21              M5     1\n",
      "22             C10     1\n",
      "23              C9     1\n",
      "24             C12     1\n",
      "25              C7     1\n",
      "26   TransactionDT     1\n",
      "27  TransactionAmt     1\n",
      "28       ProductCD     1\n",
      "29           card1     1\n",
      "30           card2     1\n",
      "31           card3     1\n",
      "32              C8     1\n",
      "33           card5     1\n",
      "34           card6     1\n",
      "35           addr1     1\n",
      "36      DeviceInfo     1\n",
      "37           dist1     1\n",
      "38   P_emaildomain     1\n",
      "39   R_emaildomain     1\n",
      "40              C1     1\n",
      "41              C2     1\n",
      "42              C6     1\n",
      "43              C4     1\n",
      "44              C5     1\n",
      "45           addr2     1\n",
      "\n",
      " Feature ranking:\n",
      "[1 1 1 1 1 1 1 2 1 1 1 1 1 2 1 1 1 1 6 1 1 1 1 1 1 1 1 1 1 1 1 1 1 1 1 1 1\n",
      " 1 1 1 1 1 1 1 1 8 3 3 1 1 2 6 6 4 1 1]\n"
     ]
    }
   ],
   "source": [
    "feature_df = pd.DataFrame(X_train.columns.tolist(), columns=['features'])\n",
    "feature_df['rank']=boruta_selector.ranking_\n",
    "feature_df = feature_df.sort_values('rank', ascending=True).reset_index(drop=True)\n",
    "print ('\\n Top %d features:' % boruta_selector.n_features_)\n",
    "print (feature_df.head(boruta_selector.n_features_))\n",
    "feature_df.to_csv('boruta-feature-ranking.csv', index=False)\n",
    "\n",
    "print ('\\n Feature ranking:')\n",
    "print (boruta_selector.ranking_)"
   ]
  },
  {
   "cell_type": "code",
   "execution_count": 103,
   "metadata": {},
   "outputs": [
    {
     "name": "stdout",
     "output_type": "stream",
     "text": [
      "List of selected features: \n",
      " Index(['TransactionID', 'TransactionDT', 'TransactionAmt', 'ProductCD',\n",
      "       'card1', 'card2', 'card3', 'card5', 'card6', 'addr1', 'addr2', 'dist1',\n",
      "       'P_emaildomain', 'R_emaildomain', 'C1', 'C2', 'C4', 'C5', 'C6', 'C7',\n",
      "       'C8', 'C9', 'C10', 'C11', 'C12', 'C13', 'C14', 'D1', 'D2', 'D3', 'D4',\n",
      "       'D5', 'D6', 'D7', 'D8', 'D9', 'D10', 'D11', 'D12', 'D13', 'D14', 'D15',\n",
      "       'M4', 'M5', 'DeviceType', 'DeviceInfo'],\n",
      "      dtype='object')\n",
      "\n",
      "List of rejected features: \n",
      " Index(['card4', 'dist2', 'C3', 'M1', 'M2', 'M3', 'M6', 'M7', 'M8', 'M9'], dtype='object')\n"
     ]
    }
   ],
   "source": [
    "# check selected features\n",
    "selected_features = X_train.columns[boruta_selector.support_]\n",
    "rejected_features = X_train.columns[boruta_selector.support_ == False]\n",
    "\n",
    "print('List of selected features: \\n', selected_features)\n",
    "print('\\nList of rejected features: \\n', rejected_features)"
   ]
  },
  {
   "cell_type": "markdown",
   "metadata": {},
   "source": [
    "#### BORUTA selected 46 Optimal number of features out of 56 total features"
   ]
  },
  {
   "cell_type": "code",
   "execution_count": null,
   "metadata": {},
   "outputs": [],
   "source": []
  },
  {
   "cell_type": "markdown",
   "metadata": {},
   "source": [
    "### XGBoost & LGBM Models"
   ]
  },
  {
   "cell_type": "markdown",
   "metadata": {},
   "source": [
    "#### ---> Boruta package for Python uses numpy.random.RandomState to seed models and not an integer, which works with sklearn models but conflicts with LightGBM and XGboost. Therefore, it's impossible to try Boruta with these models at the moment."
   ]
  },
  {
   "cell_type": "code",
   "execution_count": null,
   "metadata": {},
   "outputs": [],
   "source": []
  },
  {
   "cell_type": "markdown",
   "metadata": {},
   "source": [
    "## Covariate Shift"
   ]
  },
  {
   "cell_type": "markdown",
   "metadata": {},
   "source": [
    "#### Covariate shift refers to the change in the distribution of the input variables present in the training and the test data. It is the most common type of shift and it is now gaining more attention as nearly every real-world dataset suffers from this problem. Covariate shift occurs when the distribution of input variables is different between training and testing dataset. First of all, we need to add origin feature that tells us whether the observation belongs to training or testing dataset, then merge training and testing datasets. Next would be create a classification model taking examined feature as an explanatory variable and origin feature as a target on a part of merged dataset (75%), then predict on the rest of merged dataset (25%) and calculate ROC-AUC. If ROC-AUC is greater than a threshold, we identify the examined variable as drifting. As soon as we identified the drifting variables, we can drop them and continue with next steps in projects."
   ]
  },
  {
   "cell_type": "markdown",
   "metadata": {},
   "source": [
    "### LGBM model"
   ]
  },
  {
   "cell_type": "code",
   "execution_count": 104,
   "metadata": {},
   "outputs": [],
   "source": [
    "# Creating a new feature origin\n",
    "X_train['origin'] = 0\n",
    "X_test['origin'] = 1"
   ]
  },
  {
   "cell_type": "code",
   "execution_count": 105,
   "metadata": {},
   "outputs": [],
   "source": [
    "## Taking sample from training and test data\n",
    "training = X_train.sample(10000, random_state=12)\n",
    "testing = X_test.sample(10000, random_state=11)"
   ]
  },
  {
   "cell_type": "code",
   "execution_count": 106,
   "metadata": {},
   "outputs": [],
   "source": [
    "# Combining random samples\n",
    "combine = training.append(testing)\n",
    "y = combine['origin']\n",
    "combine.drop('origin',axis=1,inplace=True)"
   ]
  },
  {
   "cell_type": "code",
   "execution_count": 107,
   "metadata": {},
   "outputs": [
    {
     "name": "stdout",
     "output_type": "stream",
     "text": [
      "TransactionID 0.99998288\n",
      "TransactionDT 0.99998288\n",
      "D10 0.5718101099999999\n",
      "D11 0.62905776\n",
      "D15 0.5927403900000001\n"
     ]
    }
   ],
   "source": [
    "## Modeling\n",
    "\n",
    "model = lgb.LGBMClassifier(**lgb_params)\n",
    "drop_list = []\n",
    "for i in combine.columns:\n",
    "    score = cross_val_score(model,pd.DataFrame(combine[i]),y,cv=2,scoring='roc_auc')\n",
    "    if (np.mean(score) > 0.56):\n",
    "        drop_list.append(i)\n",
    "        print(i,np.mean(score))\n",
    "       "
   ]
  },
  {
   "cell_type": "code",
   "execution_count": 108,
   "metadata": {},
   "outputs": [
    {
     "data": {
      "text/plain": [
       "5"
      ]
     },
     "execution_count": 108,
     "metadata": {},
     "output_type": "execute_result"
    }
   ],
   "source": [
    "# List   of   drifting   features \n",
    "len(drop_list)"
   ]
  },
  {
   "cell_type": "code",
   "execution_count": 109,
   "metadata": {},
   "outputs": [
    {
     "data": {
      "text/plain": [
       "['TransactionAmt',\n",
       " 'ProductCD',\n",
       " 'card1',\n",
       " 'card2',\n",
       " 'card3',\n",
       " 'card4',\n",
       " 'card5',\n",
       " 'card6',\n",
       " 'addr1',\n",
       " 'addr2',\n",
       " 'dist1',\n",
       " 'dist2',\n",
       " 'P_emaildomain',\n",
       " 'R_emaildomain',\n",
       " 'C1',\n",
       " 'C2',\n",
       " 'C3',\n",
       " 'C4',\n",
       " 'C5',\n",
       " 'C6',\n",
       " 'C7',\n",
       " 'C8',\n",
       " 'C9',\n",
       " 'C10',\n",
       " 'C11',\n",
       " 'C12',\n",
       " 'C13',\n",
       " 'C14',\n",
       " 'D1',\n",
       " 'D2',\n",
       " 'D3',\n",
       " 'D4',\n",
       " 'D5',\n",
       " 'D6',\n",
       " 'D7',\n",
       " 'D8',\n",
       " 'D9',\n",
       " 'D12',\n",
       " 'D13',\n",
       " 'D14',\n",
       " 'M1',\n",
       " 'M2',\n",
       " 'M3',\n",
       " 'M4',\n",
       " 'M5',\n",
       " 'M6',\n",
       " 'M7',\n",
       " 'M8',\n",
       " 'M9',\n",
       " 'DeviceType',\n",
       " 'DeviceInfo',\n",
       " 'origin']"
      ]
     },
     "execution_count": 109,
     "metadata": {},
     "output_type": "execute_result"
    }
   ],
   "source": [
    "#In order to drop features with covariate shift\n",
    "\n",
    "drift_train = X_train.drop(drop_list, axis=1)\n",
    "\n",
    "#These features remained after dropping\n",
    "\n",
    "cols = drift_train.columns.tolist()\n",
    "cols"
   ]
  },
  {
   "cell_type": "markdown",
   "metadata": {},
   "source": [
    "#### Covariate Shift selected 50 Optimal number of features out of 56 total features"
   ]
  },
  {
   "cell_type": "markdown",
   "metadata": {},
   "source": [
    "### XGBoost Model"
   ]
  },
  {
   "cell_type": "code",
   "execution_count": 110,
   "metadata": {},
   "outputs": [
    {
     "name": "stdout",
     "output_type": "stream",
     "text": [
      "TransactionID 0.99995\n",
      "TransactionDT 0.99995\n",
      "D10 0.56863354\n",
      "D11 0.6288224499999999\n",
      "D15 0.59499703\n"
     ]
    }
   ],
   "source": [
    "## Modeling\n",
    "\n",
    "\n",
    "xgb_model = xgb.XGBClassifier()\n",
    "drop_list = []\n",
    "for i in combine.columns:\n",
    "    score = cross_val_score(xgb_model,pd.DataFrame(combine[i]),y,cv=2,scoring='roc_auc')\n",
    "    if (np.mean(score) > 0.56):\n",
    "        drop_list.append(i)\n",
    "        print(i,np.mean(score))"
   ]
  },
  {
   "cell_type": "code",
   "execution_count": null,
   "metadata": {},
   "outputs": [],
   "source": []
  },
  {
   "cell_type": "markdown",
   "metadata": {},
   "source": [
    "### RandomForest Model"
   ]
  },
  {
   "cell_type": "code",
   "execution_count": 111,
   "metadata": {},
   "outputs": [
    {
     "name": "stdout",
     "output_type": "stream",
     "text": [
      "TransactionID 1.0\n",
      "TransactionDT 1.0\n",
      "D4 0.56183917\n",
      "D10 0.57169421\n",
      "D11 0.6305787300000001\n",
      "D15 0.5961828599999999\n"
     ]
    }
   ],
   "source": [
    "## Modeling\n",
    "\n",
    "rf_model = RandomForestClassifier(n_estimators = 50, max_depth = 5,min_samples_leaf = 5)\n",
    "drop_list = []\n",
    "for i in combine.columns:\n",
    "    score = cross_val_score(rf_model,pd.DataFrame(combine[i]),y,cv=2,scoring='roc_auc')\n",
    "    if (np.mean(score) > 0.56):\n",
    "        drop_list.append(i)\n",
    "        print(i,np.mean(score))"
   ]
  },
  {
   "cell_type": "code",
   "execution_count": null,
   "metadata": {},
   "outputs": [],
   "source": []
  },
  {
   "cell_type": "markdown",
   "metadata": {},
   "source": [
    "## Prediction after Recursive Feature Elimination"
   ]
  },
  {
   "cell_type": "markdown",
   "metadata": {},
   "source": [
    "#### Training the LGBM and XGBoost models (all features)"
   ]
  },
  {
   "cell_type": "code",
   "execution_count": 112,
   "metadata": {},
   "outputs": [],
   "source": [
    "# Recursive Feature Elimination with LGBM and XGBoost\n",
    "train_recur  = X_train.drop(columns = ['origin'], axis = 1)\n",
    "test_recur = X_test.drop(columns = ['origin'], axis = 1)"
   ]
  },
  {
   "cell_type": "code",
   "execution_count": 113,
   "metadata": {},
   "outputs": [
    {
     "name": "stdout",
     "output_type": "stream",
     "text": [
      "[1]\tvalid_0's auc: 0.836946\n",
      "Training until validation scores don't improve for 5 rounds\n",
      "[2]\tvalid_0's auc: 0.855477\n",
      "[3]\tvalid_0's auc: 0.85841\n",
      "[4]\tvalid_0's auc: 0.870191\n",
      "[5]\tvalid_0's auc: 0.871834\n",
      "[6]\tvalid_0's auc: 0.873132\n",
      "[7]\tvalid_0's auc: 0.878352\n",
      "[8]\tvalid_0's auc: 0.880014\n",
      "[9]\tvalid_0's auc: 0.883295\n",
      "[10]\tvalid_0's auc: 0.885412\n",
      "[11]\tvalid_0's auc: 0.887709\n",
      "[12]\tvalid_0's auc: 0.887834\n",
      "[13]\tvalid_0's auc: 0.889406\n",
      "[14]\tvalid_0's auc: 0.889186\n",
      "[15]\tvalid_0's auc: 0.889482\n",
      "[16]\tvalid_0's auc: 0.890227\n",
      "[17]\tvalid_0's auc: 0.890733\n",
      "[18]\tvalid_0's auc: 0.890039\n",
      "[19]\tvalid_0's auc: 0.889836\n",
      "[20]\tvalid_0's auc: 0.890618\n",
      "Did not meet early stopping. Best iteration is:\n",
      "[17]\tvalid_0's auc: 0.890733\n"
     ]
    }
   ],
   "source": [
    "lgb_train_rec = lgb.Dataset(train_recur, y_train)\n",
    "lgb_eval_rec = lgb.Dataset(test_recur, y_test)\n",
    "lgb_rec = lgb.train(lgb_params,lgb_train_rec,num_boost_round=20,valid_sets=lgb_eval_rec,early_stopping_rounds=5)"
   ]
  },
  {
   "cell_type": "code",
   "execution_count": 114,
   "metadata": {},
   "outputs": [
    {
     "name": "stdout",
     "output_type": "stream",
     "text": [
      "(0.9303558483992773, 0.002178649237472767, 0.9637837110767369, 0.9016808348395715, 0.5204763312203946, 0.002170206169586111, -0.03391073756225035)\n"
     ]
    }
   ],
   "source": [
    "bst_recur = lgb.train(lgb_params, lgb_train_rec, 100)\n",
    "scores_recur = bst_recur.predict(test_recur)\n",
    "y_pred_recur = 1*(scores_recur<np.percentile(scores_recur, 100*conta))\n",
    "res_recur = getMetrics(y_test, scores_recur, y_pred_recur)\n",
    "print(res_recur)\n",
    "\n",
    "# 1. true classif rate, \n",
    "# 2. true positive rate, \n",
    "# 3. true negative rate, \n",
    "# 4. area under roc curve, \n",
    "# 5. area under precision recall curve,\n",
    "# 6. f1 - score,\n",
    "# 7. matthew corr coef."
   ]
  },
  {
   "cell_type": "code",
   "execution_count": 115,
   "metadata": {},
   "outputs": [
    {
     "data": {
      "text/plain": [
       "0.97"
      ]
     },
     "execution_count": 115,
     "metadata": {},
     "output_type": "execute_result"
    }
   ],
   "source": [
    "#Evaluate the prediction Precision rank \n",
    "precision_n_scores(y_test, lgb_rec.predict (test_recur), n=100)"
   ]
  },
  {
   "cell_type": "code",
   "execution_count": 116,
   "metadata": {},
   "outputs": [
    {
     "data": {
      "text/plain": [
       "0.98"
      ]
     },
     "execution_count": 116,
     "metadata": {},
     "output_type": "execute_result"
    }
   ],
   "source": [
    "#Evaluate the prediction Precision rank \n",
    "precision_n_scores(y_test, lgb_rec.predict (test_recur), n=50)"
   ]
  },
  {
   "cell_type": "code",
   "execution_count": 117,
   "metadata": {},
   "outputs": [
    {
     "data": {
      "text/plain": [
       "1.0"
      ]
     },
     "execution_count": 117,
     "metadata": {},
     "output_type": "execute_result"
    }
   ],
   "source": [
    "#Evaluate the prediction Precision rank \n",
    "precision_n_scores(y_test, lgb_rec.predict (test_recur), n=10)"
   ]
  },
  {
   "cell_type": "markdown",
   "metadata": {},
   "source": [
    "#### As we can see the area under roc curve is 0.90 and prediction precision rank is 0.97"
   ]
  },
  {
   "cell_type": "markdown",
   "metadata": {},
   "source": [
    "#### Training the RandomForest model"
   ]
  },
  {
   "cell_type": "code",
   "execution_count": 132,
   "metadata": {},
   "outputs": [],
   "source": [
    "# Recursive Feature Elimination with RandomForest\n",
    "train_rec_rf  = X_train.drop(columns = ['C3','D13', 'M1', 'M2', 'M3', 'M5', 'M7', 'M8', 'M9', 'DeviceType','origin'], axis = 1)\n",
    "test_rec_rf = X_test.drop(columns = ['C3','D13', 'M1', 'M2', 'M3', 'M5', 'M7', 'M8', 'M9', 'DeviceType','origin'], axis = 1)"
   ]
  },
  {
   "cell_type": "code",
   "execution_count": 133,
   "metadata": {},
   "outputs": [
    {
     "name": "stdout",
     "output_type": "stream",
     "text": [
      "[1]\tvalid_0's auc: 0.838191\n",
      "Training until validation scores don't improve for 5 rounds\n",
      "[2]\tvalid_0's auc: 0.862544\n",
      "[3]\tvalid_0's auc: 0.864293\n",
      "[4]\tvalid_0's auc: 0.869502\n",
      "[5]\tvalid_0's auc: 0.873397\n",
      "[6]\tvalid_0's auc: 0.87595\n",
      "[7]\tvalid_0's auc: 0.875934\n",
      "[8]\tvalid_0's auc: 0.876872\n",
      "[9]\tvalid_0's auc: 0.877236\n",
      "[10]\tvalid_0's auc: 0.878535\n",
      "[11]\tvalid_0's auc: 0.878019\n",
      "[12]\tvalid_0's auc: 0.878894\n",
      "[13]\tvalid_0's auc: 0.878986\n",
      "[14]\tvalid_0's auc: 0.880061\n",
      "[15]\tvalid_0's auc: 0.881553\n",
      "[16]\tvalid_0's auc: 0.881471\n",
      "[17]\tvalid_0's auc: 0.882382\n",
      "[18]\tvalid_0's auc: 0.883291\n",
      "[19]\tvalid_0's auc: 0.883676\n",
      "[20]\tvalid_0's auc: 0.882935\n",
      "Did not meet early stopping. Best iteration is:\n",
      "[19]\tvalid_0's auc: 0.883676\n"
     ]
    }
   ],
   "source": [
    "lgb_train_rec_rf = lgb.Dataset(train_rec_rf, y_train)\n",
    "lgb_eval_rec_rf = lgb.Dataset(test_rec_rf, y_test)\n",
    "lgb_rec_rf = lgb.train(lgb_params,lgb_train_rec_rf,num_boost_round=20,valid_sets=lgb_eval_rec_rf,early_stopping_rounds=5)"
   ]
  },
  {
   "cell_type": "code",
   "execution_count": 134,
   "metadata": {},
   "outputs": [
    {
     "name": "stdout",
     "output_type": "stream",
     "text": [
      "(0.93031257100198, 0.001556178026766262, 0.9637612930705943, 0.8994636710070453, 0.5195552085302043, 0.0015501472639900791, -0.0345532224463718)\n"
     ]
    }
   ],
   "source": [
    "bst_rec_rf = lgb.train(lgb_params, lgb_train_rec_rf, 100)\n",
    "scores_rec_rf = bst_rec_rf.predict(test_rec_rf)\n",
    "y_pred_rec_rf = 1*(scores_rec_rf<np.percentile(scores_rec_rf, 100*conta))\n",
    "res_rec_rf = getMetrics(y_test, scores_rec_rf, y_pred_rec_rf)\n",
    "print(res_rec_rf)\n",
    "\n",
    "# 1. true classif rate, \n",
    "# 2. true positive rate, \n",
    "# 3. true negative rate, \n",
    "# 4. area under roc curve, \n",
    "# 5. area under precision recall curve,\n",
    "# 6. f1 - score,\n",
    "# 7. matthew corr coef."
   ]
  },
  {
   "cell_type": "code",
   "execution_count": 135,
   "metadata": {},
   "outputs": [
    {
     "data": {
      "text/plain": [
       "0.97"
      ]
     },
     "execution_count": 135,
     "metadata": {},
     "output_type": "execute_result"
    }
   ],
   "source": [
    "#Evaluate the prediction Precision rank \n",
    "precision_n_scores(y_test, lgb_rec_rf.predict (test_rec_rf), n=100)"
   ]
  },
  {
   "cell_type": "code",
   "execution_count": 136,
   "metadata": {},
   "outputs": [
    {
     "data": {
      "text/plain": [
       "1.0"
      ]
     },
     "execution_count": 136,
     "metadata": {},
     "output_type": "execute_result"
    }
   ],
   "source": [
    "#Evaluate the prediction Precision rank \n",
    "precision_n_scores(y_test, lgb_rec_rf.predict (test_rec_rf), n=50)"
   ]
  },
  {
   "cell_type": "code",
   "execution_count": 137,
   "metadata": {},
   "outputs": [
    {
     "data": {
      "text/plain": [
       "1.0"
      ]
     },
     "execution_count": 137,
     "metadata": {},
     "output_type": "execute_result"
    }
   ],
   "source": [
    "#Evaluate the prediction Precision rank \n",
    "precision_n_scores(y_test, lgb_rec_rf.predict (test_rec_rf), n=10)"
   ]
  },
  {
   "cell_type": "code",
   "execution_count": null,
   "metadata": {},
   "outputs": [],
   "source": []
  },
  {
   "cell_type": "markdown",
   "metadata": {},
   "source": [
    "## Prediction after Boruta"
   ]
  },
  {
   "cell_type": "code",
   "execution_count": 118,
   "metadata": {},
   "outputs": [],
   "source": [
    "# BORUTA with RandomForest\n",
    "train_boruta  = X_train.drop(columns = ['card4', 'dist2', 'C3', 'M1', 'M2', 'M3', 'M6', 'M7', 'M8', 'M9', 'origin'], axis = 1)\n",
    "test_boruta = X_test.drop(columns = ['card4', 'dist2', 'C3', 'M1', 'M2', 'M3', 'M6', 'M7', 'M8', 'M9', 'origin'], axis = 1)"
   ]
  },
  {
   "cell_type": "code",
   "execution_count": 119,
   "metadata": {},
   "outputs": [
    {
     "name": "stdout",
     "output_type": "stream",
     "text": [
      "[1]\tvalid_0's auc: 0.815173\n",
      "Training until validation scores don't improve for 5 rounds\n",
      "[2]\tvalid_0's auc: 0.844091\n",
      "[3]\tvalid_0's auc: 0.852196\n",
      "[4]\tvalid_0's auc: 0.854054\n",
      "[5]\tvalid_0's auc: 0.860318\n",
      "[6]\tvalid_0's auc: 0.862722\n",
      "[7]\tvalid_0's auc: 0.867457\n",
      "[8]\tvalid_0's auc: 0.870441\n",
      "[9]\tvalid_0's auc: 0.872194\n",
      "[10]\tvalid_0's auc: 0.873991\n",
      "[11]\tvalid_0's auc: 0.877737\n",
      "[12]\tvalid_0's auc: 0.879786\n",
      "[13]\tvalid_0's auc: 0.880631\n",
      "[14]\tvalid_0's auc: 0.881345\n",
      "[15]\tvalid_0's auc: 0.883249\n",
      "[16]\tvalid_0's auc: 0.88239\n",
      "[17]\tvalid_0's auc: 0.882779\n",
      "[18]\tvalid_0's auc: 0.883393\n",
      "[19]\tvalid_0's auc: 0.883913\n",
      "[20]\tvalid_0's auc: 0.883886\n",
      "Did not meet early stopping. Best iteration is:\n",
      "[19]\tvalid_0's auc: 0.883913\n"
     ]
    }
   ],
   "source": [
    "lgb_train_bor = lgb.Dataset(train_boruta, y_train)\n",
    "lgb_eval_bor = lgb.Dataset(test_boruta, y_test)\n",
    "lgb_bor = lgb.train(lgb_params,lgb_train_bor,num_boost_round=20,valid_sets=lgb_eval_bor,early_stopping_rounds=5)"
   ]
  },
  {
   "cell_type": "code",
   "execution_count": 120,
   "metadata": {},
   "outputs": [
    {
     "name": "stdout",
     "output_type": "stream",
     "text": [
      "(0.9303991257965746, 0.0028011204481792717, 0.9638061290828793, 0.8977255638482642, 0.5157148200995851, 0.0027902650751821423, -0.03326825267812889)\n"
     ]
    }
   ],
   "source": [
    "bst_boruta = lgb.train(lgb_params, lgb_train_bor, 100)\n",
    "scores_boruta = bst_boruta.predict(test_boruta)\n",
    "y_pred_boruta = 1*(scores_boruta<np.percentile(scores_boruta, 100*conta))\n",
    "res_boruta = getMetrics(y_test, scores_boruta, y_pred_boruta)\n",
    "print(res_boruta)\n",
    "\n",
    "# 1. true classif rate, \n",
    "# 2. true positive rate, \n",
    "# 3. true negative rate, \n",
    "# 4. area under roc curve, \n",
    "# 5. area under precision recall curve,\n",
    "# 6. f1 - score,\n",
    "# 7. matthew corr coef."
   ]
  },
  {
   "cell_type": "code",
   "execution_count": 121,
   "metadata": {},
   "outputs": [
    {
     "data": {
      "text/plain": [
       "1.0"
      ]
     },
     "execution_count": 121,
     "metadata": {},
     "output_type": "execute_result"
    }
   ],
   "source": [
    "#Evaluate the prediction Precision rank \n",
    "precision_n_scores(y_test, lgb_bor.predict (test_boruta), n=100)"
   ]
  },
  {
   "cell_type": "code",
   "execution_count": 122,
   "metadata": {},
   "outputs": [
    {
     "data": {
      "text/plain": [
       "1.0"
      ]
     },
     "execution_count": 122,
     "metadata": {},
     "output_type": "execute_result"
    }
   ],
   "source": [
    "#Evaluate the prediction Precision rank \n",
    "precision_n_scores(y_test, lgb_bor.predict (test_boruta), n=50)"
   ]
  },
  {
   "cell_type": "code",
   "execution_count": 123,
   "metadata": {},
   "outputs": [
    {
     "data": {
      "text/plain": [
       "1.0"
      ]
     },
     "execution_count": 123,
     "metadata": {},
     "output_type": "execute_result"
    }
   ],
   "source": [
    "#Evaluate the prediction Precision rank \n",
    "precision_n_scores(y_test, lgb_bor.predict (test_boruta), n=10)"
   ]
  },
  {
   "cell_type": "markdown",
   "metadata": {},
   "source": [
    "#### As we can see the area under roc curve is 0.897 and prediction precision rank is 1."
   ]
  },
  {
   "cell_type": "markdown",
   "metadata": {},
   "source": [
    "## Prediction after Covariate Shift"
   ]
  },
  {
   "cell_type": "code",
   "execution_count": 124,
   "metadata": {},
   "outputs": [],
   "source": [
    "# Covariate Shift with LGBM and XGBoost\n",
    "\n",
    "train_covar  = X_train.drop(columns = ['TransactionID', 'TransactionDT','D10', 'D11', 'D15', 'origin'], axis = 1)\n",
    "test_covar = X_test.drop(columns = ['TransactionID', 'TransactionDT', 'D10', 'D11', 'D15', 'origin'], axis = 1)"
   ]
  },
  {
   "cell_type": "code",
   "execution_count": 125,
   "metadata": {},
   "outputs": [
    {
     "name": "stdout",
     "output_type": "stream",
     "text": [
      "[1]\tvalid_0's auc: 0.826981\n",
      "Training until validation scores don't improve for 5 rounds\n",
      "[2]\tvalid_0's auc: 0.846862\n",
      "[3]\tvalid_0's auc: 0.861262\n",
      "[4]\tvalid_0's auc: 0.865061\n",
      "[5]\tvalid_0's auc: 0.86879\n",
      "[6]\tvalid_0's auc: 0.874794\n",
      "[7]\tvalid_0's auc: 0.875724\n",
      "[8]\tvalid_0's auc: 0.878455\n",
      "[9]\tvalid_0's auc: 0.880833\n",
      "[10]\tvalid_0's auc: 0.88266\n",
      "[11]\tvalid_0's auc: 0.882793\n",
      "[12]\tvalid_0's auc: 0.88588\n",
      "[13]\tvalid_0's auc: 0.887392\n",
      "[14]\tvalid_0's auc: 0.887877\n",
      "[15]\tvalid_0's auc: 0.887843\n",
      "[16]\tvalid_0's auc: 0.888385\n",
      "[17]\tvalid_0's auc: 0.889875\n",
      "[18]\tvalid_0's auc: 0.889771\n",
      "[19]\tvalid_0's auc: 0.890213\n",
      "[20]\tvalid_0's auc: 0.890716\n",
      "Did not meet early stopping. Best iteration is:\n",
      "[20]\tvalid_0's auc: 0.890716\n"
     ]
    }
   ],
   "source": [
    "lgb_train_cov = lgb.Dataset(train_covar, y_train)\n",
    "lgb_eval_cov = lgb.Dataset(test_covar, y_test)\n",
    "lgb_cov = lgb.train(lgb_params,lgb_train_cov,num_boost_round=20,valid_sets=lgb_eval_cov,early_stopping_rounds=5)"
   ]
  },
  {
   "cell_type": "code",
   "execution_count": 126,
   "metadata": {},
   "outputs": [
    {
     "name": "stdout",
     "output_type": "stream",
     "text": [
      "(0.9302692936046826, 0.0009337068160597573, 0.9637388750644518, 0.8995179542587691, 0.5232151175265305, 0.0009300883583940474, -0.03519570733049326)\n"
     ]
    }
   ],
   "source": [
    "bst_cov = lgb.train(lgb_params, lgb_train_cov, 100)\n",
    "scores_cov = bst_cov.predict(test_covar)\n",
    "y_pred_cov = 1*(scores_cov<np.percentile(scores_cov, 100*conta))\n",
    "res_cov = getMetrics(y_test, scores_cov, y_pred_cov)\n",
    "print(res_cov)\n",
    "\n",
    "# 1. true classif rate, \n",
    "# 2. true positive rate, \n",
    "# 3. true negative rate, \n",
    "# 4. area under roc curve, \n",
    "# 5. area under precision recall curve,\n",
    "# 6. f1 - score,\n",
    "# 7. matthew corr coef."
   ]
  },
  {
   "cell_type": "code",
   "execution_count": 127,
   "metadata": {},
   "outputs": [
    {
     "data": {
      "text/plain": [
       "0.99"
      ]
     },
     "execution_count": 127,
     "metadata": {},
     "output_type": "execute_result"
    }
   ],
   "source": [
    "#Evaluate the prediction Precision rank \n",
    "precision_n_scores(y_test, lgb_cov.predict (test_covar), n=100)"
   ]
  },
  {
   "cell_type": "code",
   "execution_count": 128,
   "metadata": {},
   "outputs": [
    {
     "data": {
      "text/plain": [
       "1.0"
      ]
     },
     "execution_count": 128,
     "metadata": {},
     "output_type": "execute_result"
    }
   ],
   "source": [
    "#Evaluate the prediction Precision rank \n",
    "precision_n_scores(y_test, lgb_cov.predict (test_covar), n=50)"
   ]
  },
  {
   "cell_type": "code",
   "execution_count": 129,
   "metadata": {},
   "outputs": [
    {
     "data": {
      "text/plain": [
       "1.0"
      ]
     },
     "execution_count": 129,
     "metadata": {},
     "output_type": "execute_result"
    }
   ],
   "source": [
    "#Evaluate the prediction Precision rank \n",
    "precision_n_scores(y_test, lgb_cov.predict (test_covar), n=10)"
   ]
  },
  {
   "cell_type": "markdown",
   "metadata": {},
   "source": [
    "#### As we can see the area under roc curve is 0.899 and prediction precision rank is 0.99"
   ]
  },
  {
   "cell_type": "code",
   "execution_count": 138,
   "metadata": {},
   "outputs": [],
   "source": [
    "# Covariate Shift with Random Forest\n",
    "\n",
    "train_cov_rf  = X_train.drop(columns = ['TransactionID', 'TransactionDT','D10', 'D11', 'D15', 'D4', 'origin'], axis = 1)\n",
    "test_cov_rf = X_test.drop(columns = ['TransactionID', 'TransactionDT', 'D10', 'D11', 'D15', 'D4','origin'], axis = 1)"
   ]
  },
  {
   "cell_type": "code",
   "execution_count": 139,
   "metadata": {},
   "outputs": [
    {
     "name": "stdout",
     "output_type": "stream",
     "text": [
      "[1]\tvalid_0's auc: 0.831665\n",
      "Training until validation scores don't improve for 5 rounds\n",
      "[2]\tvalid_0's auc: 0.851451\n",
      "[3]\tvalid_0's auc: 0.865702\n",
      "[4]\tvalid_0's auc: 0.868117\n",
      "[5]\tvalid_0's auc: 0.87254\n",
      "[6]\tvalid_0's auc: 0.876306\n",
      "[7]\tvalid_0's auc: 0.876504\n",
      "[8]\tvalid_0's auc: 0.87827\n",
      "[9]\tvalid_0's auc: 0.87933\n",
      "[10]\tvalid_0's auc: 0.881089\n",
      "[11]\tvalid_0's auc: 0.881119\n",
      "[12]\tvalid_0's auc: 0.881084\n",
      "[13]\tvalid_0's auc: 0.881587\n",
      "[14]\tvalid_0's auc: 0.882815\n",
      "[15]\tvalid_0's auc: 0.884338\n",
      "[16]\tvalid_0's auc: 0.885444\n",
      "[17]\tvalid_0's auc: 0.886992\n",
      "[18]\tvalid_0's auc: 0.886878\n",
      "[19]\tvalid_0's auc: 0.887561\n",
      "[20]\tvalid_0's auc: 0.887521\n",
      "Did not meet early stopping. Best iteration is:\n",
      "[19]\tvalid_0's auc: 0.887561\n"
     ]
    }
   ],
   "source": [
    "lgb_train_cov_rf = lgb.Dataset(train_cov_rf, y_train)\n",
    "lgb_eval_cov_rf = lgb.Dataset(test_cov_rf, y_test)\n",
    "lgb_cov_rf = lgb.train(lgb_params,lgb_train_cov_rf,num_boost_round=20,valid_sets=lgb_eval_cov_rf,early_stopping_rounds=5)"
   ]
  },
  {
   "cell_type": "code",
   "execution_count": 140,
   "metadata": {},
   "outputs": [
    {
     "name": "stdout",
     "output_type": "stream",
     "text": [
      "(0.919287654040486, 0.0009337068160597573, 0.9523617369471159, 0.9004280133227845, 0.52330834986686, 0.0008036431824270025, -0.04083317555250046)\n"
     ]
    }
   ],
   "source": [
    "bst_cov_rf = lgb.train(lgb_params, lgb_train_cov_rf, 100)\n",
    "scores_cov_rf = bst_cov_rf.predict(test_cov_rf)\n",
    "y_pred_cov_rf = 1*(scores_cov<np.percentile(scores_cov_rf, 100*conta))\n",
    "res_cov_rf = getMetrics(y_test, scores_cov_rf, y_pred_cov_rf)\n",
    "print(res_cov_rf)\n",
    "\n",
    "# 1. true classif rate, \n",
    "# 2. true positive rate, \n",
    "# 3. true negative rate, \n",
    "# 4. area under roc curve, \n",
    "# 5. area under precision recall curve,\n",
    "# 6. f1 - score,\n",
    "# 7. matthew corr coef."
   ]
  },
  {
   "cell_type": "code",
   "execution_count": 141,
   "metadata": {},
   "outputs": [
    {
     "data": {
      "text/plain": [
       "0.97"
      ]
     },
     "execution_count": 141,
     "metadata": {},
     "output_type": "execute_result"
    }
   ],
   "source": [
    "#Evaluate the prediction Precision rank \n",
    "precision_n_scores(y_test, lgb_cov_rf.predict (test_cov_rf), n=100)"
   ]
  },
  {
   "cell_type": "code",
   "execution_count": 142,
   "metadata": {},
   "outputs": [
    {
     "data": {
      "text/plain": [
       "1.0"
      ]
     },
     "execution_count": 142,
     "metadata": {},
     "output_type": "execute_result"
    }
   ],
   "source": [
    "#Evaluate the prediction Precision rank \n",
    "precision_n_scores(y_test, lgb_cov_rf.predict (test_cov_rf), n=50)"
   ]
  },
  {
   "cell_type": "code",
   "execution_count": 143,
   "metadata": {},
   "outputs": [
    {
     "data": {
      "text/plain": [
       "1.0"
      ]
     },
     "execution_count": 143,
     "metadata": {},
     "output_type": "execute_result"
    }
   ],
   "source": [
    "#Evaluate the prediction Precision rank \n",
    "precision_n_scores(y_test, lgb_cov_rf.predict (test_cov_rf), n=10)"
   ]
  },
  {
   "cell_type": "markdown",
   "metadata": {},
   "source": [
    "## Results "
   ]
  },
  {
   "cell_type": "code",
   "execution_count": 147,
   "metadata": {},
   "outputs": [
    {
     "data": {
      "image/png": "[encoded data removed]",
      "text/plain": [
       "<IPython.core.display.Image object>"
      ]
     },
     "execution_count": 147,
     "metadata": {},
     "output_type": "execute_result"
    }
   ],
   "source": [
    "from IPython.display import Image\n",
    "Image(\"../data/Models.png\")"
   ]
  },
  {
   "cell_type": "markdown",
   "metadata": {},
   "source": [
    "## References"
   ]
  },
  {
   "cell_type": "markdown",
   "metadata": {},
   "source": [
    "1. Recursive Feature Elimination https://bookdown.org/max/FES/recursive-feature-elimination.html \n",
    "\n",
    "2. Covariate Shift Adaptation by Importance Weighted Cross Validation http://www.jmlr.org/papers/volume8/sugiyama07a/sugiyama07a.pdf\n",
    "\n",
    "3. Feature Selection with the Boruta Package https://www.jstatsoft.org/article/view/v036i11  \n",
    "\n",
    "4. Covariate Shift in Machine Learning https://dkopczyk.quantee.co.uk/covariate_shift/\n",
    "\n",
    "5. The 5 Feature Selection Algorithms every Data Scientist should know https://towardsdatascience.com/the-5-feature-selection-algorithms-every-data-scientist-need-to-know-3a6b566efd2"
   ]
  }
 ],
 "metadata": {
  "kernelspec": {
   "display_name": "Python 3",
   "language": "python",
   "name": "python3"
  },
  "language_info": {
   "codemirror_mode": {
    "name": "ipython",
    "version": 3
   },
   "file_extension": ".py",
   "mimetype": "text/x-python",
   "name": "python",
   "nbconvert_exporter": "python",
   "pygments_lexer": "ipython3",
   "version": "3.6.7"
  }
 },
 "nbformat": 4,
 "nbformat_minor": 2
}
